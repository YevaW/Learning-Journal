{
 "cells": [
  {
   "cell_type": "markdown",
   "metadata": {},
   "source": [
    "## NG Challenge 4"
   ]
  },
  {
   "cell_type": "markdown",
   "metadata": {},
   "source": [
    "1. Buatlah Tensor dibawah ini dengan Python : [[23, 50, 7, 12], [57, 67, 99, 43], [75, 21, 57, 12], [87, 26, 18, 84]]\n"
   ]
  },
  {
   "cell_type": "code",
   "execution_count": 4,
   "metadata": {},
   "outputs": [],
   "source": [
    "#import numpy\n",
    "import numpy as np\n",
    "from numpy import array"
   ]
  },
  {
   "cell_type": "code",
   "execution_count": 8,
   "metadata": {},
   "outputs": [],
   "source": [
    "#create the tensor\n",
    "tensor1 = array([[[23, 50], [7, 12]], [[57, 67], [99, 43]], [[75, 21], [57, 12]], [[87, 26], [18, 84]]])"
   ]
  },
  {
   "cell_type": "code",
   "execution_count": 9,
   "metadata": {},
   "outputs": [
    {
     "name": "stdout",
     "output_type": "stream",
     "text": [
      "[[[23 50]\n",
      "  [ 7 12]]\n",
      "\n",
      " [[57 67]\n",
      "  [99 43]]\n",
      "\n",
      " [[75 21]\n",
      "  [57 12]]\n",
      "\n",
      " [[87 26]\n",
      "  [18 84]]]\n"
     ]
    }
   ],
   "source": [
    "#print the tensor\n",
    "print(tensor1)"
   ]
  },
  {
   "cell_type": "code",
   "execution_count": 10,
   "metadata": {},
   "outputs": [
    {
     "name": "stdout",
     "output_type": "stream",
     "text": [
      "(4, 2, 2)\n"
     ]
    }
   ],
   "source": [
    "print(tensor1.shape)"
   ]
  },
  {
   "cell_type": "markdown",
   "metadata": {},
   "source": [
    "2. Lakukan perkalian terhadap matrix berikut :\n",
    "- A = [[[23, 50, 19], [7, 12, 109], [57, 67, 98]]]\n",
    "- B = [[17], [22], [19]]"
   ]
  },
  {
   "cell_type": "code",
   "execution_count": 15,
   "metadata": {},
   "outputs": [
    {
     "name": "stdout",
     "output_type": "stream",
     "text": [
      "[[[ 23  50  19]\n",
      "  [  7  12 109]\n",
      "  [ 57  67  98]]]\n",
      "(1, 3, 3)\n",
      "[[17]\n",
      " [22]\n",
      " [19]]\n",
      "(3, 1)\n"
     ]
    }
   ],
   "source": [
    "#define the matrix\n",
    "A = np.array([[[23, 50, 19], [7, 12, 109], [57, 67, 98]]])\n",
    "B = np.array([[17], [22], [19]])\n",
    "\n",
    "print(A)\n",
    "print(A.shape)\n",
    "\n",
    "print(B)\n",
    "print(B.shape)"
   ]
  },
  {
   "cell_type": "code",
   "execution_count": 16,
   "metadata": {},
   "outputs": [
    {
     "name": "stdout",
     "output_type": "stream",
     "text": [
      "[[[1852]\n",
      "  [2454]\n",
      "  [4305]]]\n",
      "(1, 3, 1)\n"
     ]
    }
   ],
   "source": [
    "#multiply\n",
    "AmulB = A@B\n",
    "print(AmulB)\n",
    "print(AmulB.shape)"
   ]
  },
  {
   "cell_type": "markdown",
   "metadata": {},
   "source": [
    "3. Lakukan transpose, hitung determinan dan inverse terhadap matrix di bawah ini:\n",
    "- A = [[[23,50,19], [7, 12, 109], [57,57,98]]]"
   ]
  },
  {
   "cell_type": "code",
   "execution_count": 18,
   "metadata": {},
   "outputs": [
    {
     "name": "stdout",
     "output_type": "stream",
     "text": [
      "[[[ 23  50  19]\n",
      "  [  7  12 109]\n",
      "  [ 57  57  98]]]\n",
      "(1, 3, 3)\n"
     ]
    }
   ],
   "source": [
    "#define the matrix\n",
    "A = np.array([[[23,50,19], [7, 12, 109], [57,57,98]]])\n",
    "print(A)\n",
    "print(A.shape)"
   ]
  },
  {
   "cell_type": "code",
   "execution_count": 20,
   "metadata": {},
   "outputs": [
    {
     "name": "stdout",
     "output_type": "stream",
     "text": [
      "[[[ 23]\n",
      "  [  7]\n",
      "  [ 57]]\n",
      "\n",
      " [[ 50]\n",
      "  [ 12]\n",
      "  [ 57]]\n",
      "\n",
      " [[ 19]\n",
      "  [109]\n",
      "  [ 98]]]\n",
      "(3, 3, 1)\n",
      "[155084.]\n",
      "[[[-0.03247917 -0.02461247  0.03367207]\n",
      "  [ 0.03563875  0.00755075 -0.01530783]\n",
      "  [-0.00183771  0.00992365 -0.00047716]]]\n",
      "(1, 3, 3)\n"
     ]
    }
   ],
   "source": [
    "#tranpose\n",
    "Atransp = A.T\n",
    "print(Atransp)\n",
    "print(Atransp.shape)\n",
    "\n",
    "#determinan\n",
    "from numpy.linalg import det #import determinant from numpy\n",
    "detA = det(A)\n",
    "print(detA)\n",
    "\n",
    "#inverse\n",
    "from numpy.linalg import inv #import inverse from numpy\n",
    "invA = inv(A)\n",
    "print(invA)\n",
    "print(invA.shape)"
   ]
  }
 ],
 "metadata": {
  "interpreter": {
   "hash": "c006ddb37c72d24e765aeadff54ccdb75f2ebe60215cac25e77ee5cc20223870"
  },
  "kernelspec": {
   "display_name": "Python 3.10.1 64-bit",
   "language": "python",
   "name": "python3"
  },
  "language_info": {
   "codemirror_mode": {
    "name": "ipython",
    "version": 3
   },
   "file_extension": ".py",
   "mimetype": "text/x-python",
   "name": "python",
   "nbconvert_exporter": "python",
   "pygments_lexer": "ipython3",
   "version": "3.10.1"
  },
  "orig_nbformat": 4
 },
 "nbformat": 4,
 "nbformat_minor": 2
}
