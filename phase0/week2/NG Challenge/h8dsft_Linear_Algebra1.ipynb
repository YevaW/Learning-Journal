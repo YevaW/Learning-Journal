{
 "cells": [
  {
   "cell_type": "markdown",
   "metadata": {},
   "source": [
    "### NG Challenge 3"
   ]
  },
  {
   "cell_type": "markdown",
   "metadata": {},
   "source": [
    "1. Buatlah vektor di bawah ini dengan Python\n",
    "(17, 22, 19)\n"
   ]
  },
  {
   "cell_type": "code",
   "execution_count": 1,
   "metadata": {},
   "outputs": [],
   "source": [
    "# import numpy\n",
    "import numpy as np"
   ]
  },
  {
   "cell_type": "code",
   "execution_count": 2,
   "metadata": {},
   "outputs": [],
   "source": [
    "#define the vector\n",
    "a = np.array([17,22,19])"
   ]
  },
  {
   "cell_type": "code",
   "execution_count": 4,
   "metadata": {},
   "outputs": [
    {
     "name": "stdout",
     "output_type": "stream",
     "text": [
      "[17 22 19]\n"
     ]
    }
   ],
   "source": [
    "#print the vector\n",
    "print(a)"
   ]
  },
  {
   "cell_type": "markdown",
   "metadata": {},
   "source": [
    "2. Diberikan 3 buah vektor 3D:\n",
    "- A = (17, 22, 19)\n",
    "- B = (10, 20, 11)\n",
    "- C = (5, 12, 9)\n",
    "\n",
    "Hitunglah :\n",
    "- A + B\n",
    "- B - C\n",
    "- A dot C\n",
    "- A x B\n",
    "- norm A\n",
    "- Sudut antara vektor A dan B"
   ]
  },
  {
   "cell_type": "code",
   "execution_count": 5,
   "metadata": {},
   "outputs": [
    {
     "name": "stdout",
     "output_type": "stream",
     "text": [
      "[17 22 19]\n",
      "[10 20 11]\n",
      "[ 5 12  9]\n"
     ]
    }
   ],
   "source": [
    "b = np.array([10,20,11])\n",
    "c = np.array([5, 12, 9])\n",
    "print(a)\n",
    "print(b)\n",
    "print(c)\n"
   ]
  },
  {
   "cell_type": "code",
   "execution_count": 8,
   "metadata": {},
   "outputs": [
    {
     "name": "stdout",
     "output_type": "stream",
     "text": [
      "[27 42 30]\n",
      "[5 8 2]\n",
      "520\n"
     ]
    }
   ],
   "source": [
    "aplusb = a + b\n",
    "bminc = b - c\n",
    "adotc = a@c\n",
    "atimesb = a*b\n",
    "print(aplusb)\n",
    "print(bminc)\n",
    "print(adotc)"
   ]
  },
  {
   "cell_type": "code",
   "execution_count": 9,
   "metadata": {},
   "outputs": [
    {
     "name": "stdout",
     "output_type": "stream",
     "text": [
      "33.67491648096547\n"
     ]
    }
   ],
   "source": [
    "#norm A\n",
    "a_norm = np.linalg.norm(a)\n",
    "print(a_norm)"
   ]
  },
  {
   "cell_type": "code",
   "execution_count": 10,
   "metadata": {},
   "outputs": [
    {
     "name": "stdout",
     "output_type": "stream",
     "text": [
      "[17 22 19]\n",
      "[10 20 11]\n"
     ]
    }
   ],
   "source": [
    "#getting the angle between a and b\n",
    "print(a)\n",
    "print(b)"
   ]
  },
  {
   "cell_type": "code",
   "execution_count": 13,
   "metadata": {},
   "outputs": [
    {
     "name": "stdout",
     "output_type": "stream",
     "text": [
      "0.21971776576153962\n"
     ]
    }
   ],
   "source": [
    "unit_a = a/np.linalg.norm(a) #make the vector a into unit vector\n",
    "unit_b = b/np.linalg.norm(b) #make the vector b into unit vector\n",
    "\n",
    "dot_ab = np.dot(unit_a, unit_b) #use a dot operation between unit vec a and b\n",
    "\n",
    "angle = np.arccos(dot_ab) #get the angle from it\n",
    "print(angle)"
   ]
  }
 ],
 "metadata": {
  "interpreter": {
   "hash": "c006ddb37c72d24e765aeadff54ccdb75f2ebe60215cac25e77ee5cc20223870"
  },
  "kernelspec": {
   "display_name": "Python 3.10.1 64-bit",
   "language": "python",
   "name": "python3"
  },
  "language_info": {
   "codemirror_mode": {
    "name": "ipython",
    "version": 3
   },
   "file_extension": ".py",
   "mimetype": "text/x-python",
   "name": "python",
   "nbconvert_exporter": "python",
   "pygments_lexer": "ipython3",
   "version": "3.10.1"
  },
  "orig_nbformat": 4
 },
 "nbformat": 4,
 "nbformat_minor": 2
}
