{
 "cells": [
  {
   "cell_type": "markdown",
   "metadata": {},
   "source": [
    "# SQL"
   ]
  },
  {
   "cell_type": "markdown",
   "metadata": {},
   "source": [
    "- Mirip dengan excel\n",
    "- Excel = Database ; Sheet = Table ; Baris = Baris\n",
    "- Butuh database karena bisa menampung data jauh lebih banyak daripada excel"
   ]
  },
  {
   "cell_type": "markdown",
   "metadata": {},
   "source": [
    "Pada skema database, ada tiga jenis skema :\n",
    "1. One-to-One (1 buku yang ditulis oleh satu author)\n",
    "2. One-to-Many (1 buku yang ditulis oleh banyak author)\n",
    "3. Many-to-Many (banyak buku yang ditulis oleh banyak author)"
   ]
  },
  {
   "cell_type": "markdown",
   "metadata": {},
   "source": [
    "SQL Commands :\n",
    "1. DDL (Data Definiton Language) : terkait dengan command-command untuk mendefinisikan/menstrukturisasi tabelnya.\n",
    "2. DML (Data Manipulation Language) : terkait dengan command-command untuk memanipulasi, mengolah datanya.\n",
    "3. DQL (Data Query Language) : terkait dengan querying data/pengambilan data. tidak ada perubahan data maupun tabel.\n",
    "4. DCL (Data Control Language) : syntax-syntax pada SQL yang digunakan terkait dengan akses terhadap data. Siapa saja yang bisa mengakses dan jenis akses apa (view/edit/share?)"
   ]
  },
  {
   "cell_type": "code",
   "execution_count": null,
   "metadata": {},
   "outputs": [],
   "source": []
  }
 ],
 "metadata": {
  "interpreter": {
   "hash": "c006ddb37c72d24e765aeadff54ccdb75f2ebe60215cac25e77ee5cc20223870"
  },
  "kernelspec": {
   "display_name": "Python 3.10.1 64-bit",
   "language": "python",
   "name": "python3"
  },
  "language_info": {
   "name": "python",
   "version": "3.10.1"
  },
  "orig_nbformat": 4
 },
 "nbformat": 4,
 "nbformat_minor": 2
}
