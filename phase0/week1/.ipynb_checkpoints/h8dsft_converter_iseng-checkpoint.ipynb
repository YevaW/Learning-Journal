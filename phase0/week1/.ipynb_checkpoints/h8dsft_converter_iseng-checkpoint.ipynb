{
 "cells": [
  {
   "cell_type": "markdown",
   "id": "9d6da250",
   "metadata": {},
   "source": [
    "## 2 in 1 Celsius to Kelvin and Fahrenheit"
   ]
  },
  {
   "cell_type": "markdown",
   "id": "688b564a",
   "metadata": {},
   "source": [
    "### Basic Theory\n",
    "\n",
    "##### convert celsius to kelvin\n",
    "K = C + 273.15\n",
    "\n",
    "##### convert celsius to fahrenheit\n",
    "Fahrenheit = (Celsius * 9/5) + 32"
   ]
  },
  {
   "cell_type": "code",
   "execution_count": 14,
   "id": "91d50951",
   "metadata": {},
   "outputs": [
    {
     "name": "stdout",
     "output_type": "stream",
     "text": [
      "Your Temperature Conversions are : 299.15 K, 78.8 F\n"
     ]
    }
   ],
   "source": [
    "def convert_ctoKF(celsius_toK, celsius_toF) :\n",
    "    kelvin_output = celsius_toK + 273.15\n",
    "    fahrenheit_output = (celsius_toF * 9/5) + 32\n",
    "    print(f\"Your Temperature Conversions are : {kelvin_output} K, {fahrenheit_output} F\")\n",
    "\n",
    "\n",
    "convert_ctoKF(26, 26)"
   ]
  },
  {
   "cell_type": "markdown",
   "id": "a9d57d50",
   "metadata": {},
   "source": [
    "## 2 in 1 Fahrenheit to Celsius and Kelvin "
   ]
  },
  {
   "cell_type": "markdown",
   "id": "63024b16",
   "metadata": {},
   "source": [
    "#### Fahrenheit to Celsius\n",
    "Celsius = (Fahrenheit - 32) * 5/9\n",
    "\n",
    "\n",
    "#### Fahrenheit to Kelvin\n",
    "Kelvin = (Fahrenheit + 459.67) * 5/9"
   ]
  },
  {
   "cell_type": "code",
   "execution_count": 15,
   "id": "d0e2a192",
   "metadata": {},
   "outputs": [
    {
     "name": "stdout",
     "output_type": "stream",
     "text": [
      "Your Temperature Conversions are : 0.0 C, 273.15 K\n"
     ]
    }
   ],
   "source": [
    "def convert_FtoCK(fahrenheit_toC, fahrenheit_toK):\n",
    "    celsius_output = (fahrenheit_toC - 32) * 5/9\n",
    "    kelvin_output = (fahrenheit_toK + 459.67) * 5/9\n",
    "    print(f\"Your Temperature Conversions are : {celsius_output} C, {kelvin_output} K\")\n",
    "\n",
    "\n",
    "convert_FtoCK(32, 32)"
   ]
  },
  {
   "cell_type": "markdown",
   "id": "55c8ffd1",
   "metadata": {},
   "source": [
    "## 2 in 1 Celsius and Kelvin to Fahrenheit"
   ]
  },
  {
   "cell_type": "markdown",
   "id": "a3498bf4",
   "metadata": {},
   "source": [
    "### Basic Theory\n",
    "\n",
    "#### convert celsius to fahrenheit\n",
    "Fahrenheit = (Celsius * 9/5) + 32\n",
    "\n",
    "#### convert kelvin to fahrenheit\n",
    "Fahrenheit = (Kelvin - 273.15) * 9/5 + 32"
   ]
  },
  {
   "cell_type": "code",
   "execution_count": 19,
   "id": "ddad7f5d",
   "metadata": {},
   "outputs": [
    {
     "name": "stdout",
     "output_type": "stream",
     "text": [
      "Your Temperature Conversions are : 68.0 F, 260.33000000000004 F\n"
     ]
    }
   ],
   "source": [
    "def convert_CKtoF(C_toF, K_toF):\n",
    "    F_C = (C_toF * 9/5) + 32\n",
    "    F_K = ((K_toF - 273.15) * 9/5) + 32\n",
    "    print(f\"Your Temperature Conversions are : {F_C} F, {F_K} F\")\n",
    "\n",
    "\n",
    "convert_CKtoF(20, 400)"
   ]
  },
  {
   "cell_type": "code",
   "execution_count": null,
   "id": "ec4c4c68",
   "metadata": {},
   "outputs": [],
   "source": []
  }
 ],
 "metadata": {
  "kernelspec": {
   "display_name": "Python 3 (ipykernel)",
   "language": "python",
   "name": "python3"
  },
  "language_info": {
   "codemirror_mode": {
    "name": "ipython",
    "version": 3
   },
   "file_extension": ".py",
   "mimetype": "text/x-python",
   "name": "python",
   "nbconvert_exporter": "python",
   "pygments_lexer": "ipython3",
   "version": "3.9.7"
  }
 },
 "nbformat": 4,
 "nbformat_minor": 5
}
