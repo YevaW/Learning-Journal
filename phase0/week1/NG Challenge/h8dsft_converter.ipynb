{
 "cells": [
  {
   "cell_type": "markdown",
   "id": "a4237faf",
   "metadata": {},
   "source": [
    "## Basic Theory"
   ]
  },
  {
   "cell_type": "markdown",
   "id": "f05c5f72",
   "metadata": {},
   "source": [
    "##### convert celsius to kelvin\n",
    "K = C + 273.15\n",
    "\n",
    "##### convert kelvin to celsius\n",
    "C = K - 273.15"
   ]
  },
  {
   "cell_type": "markdown",
   "id": "4aa2a9ba",
   "metadata": {},
   "source": [
    "## Celsius to Kelvin"
   ]
  },
  {
   "cell_type": "code",
   "execution_count": 2,
   "id": "9237c988",
   "metadata": {},
   "outputs": [
    {
     "name": "stdout",
     "output_type": "stream",
     "text": [
      "Your Temperature in Kelvin :  308.31\n"
     ]
    }
   ],
   "source": [
    "def convert_CtoK(celsius_input):\n",
    "    kelvin_output = celsius_input + 273.15\n",
    "    print(\"Your Temperature in Kelvin : \", round(kelvin_output,2))\n",
    "\n",
    "convert_CtoK(35.16)"
   ]
  },
  {
   "cell_type": "markdown",
   "id": "b321c323",
   "metadata": {},
   "source": [
    "## Kelvin to Celsius"
   ]
  },
  {
   "cell_type": "code",
   "execution_count": 3,
   "id": "aba4cf7d",
   "metadata": {},
   "outputs": [
    {
     "name": "stdout",
     "output_type": "stream",
     "text": [
      "Your Temperature in Celsius :  126.85\n"
     ]
    }
   ],
   "source": [
    "def convert_KtoC(kelvin_input):\n",
    "    celsius_output = kelvin_input - 273.15\n",
    "    print(\"Your Temperature in Celsius : \", round(celsius_output,2))\n",
    "\n",
    "    \n",
    "convert_KtoC(400)"
   ]
  },
  {
   "cell_type": "markdown",
   "id": "da3c5621",
   "metadata": {},
   "source": [
    "## Basic Theory 2"
   ]
  },
  {
   "cell_type": "markdown",
   "id": "399614a6",
   "metadata": {},
   "source": [
    "#### convert celsius to fahrenheit\n",
    "Fahrenheit = (Celsius * 9/5) + 32\n",
    "\n",
    "#### convert kelvin to fahrenheit\n",
    "Fahrenheit = (Kelvin - 273.15) * 9/5 + 32\n",
    "\n"
   ]
  },
  {
   "cell_type": "markdown",
   "id": "912d19a7",
   "metadata": {},
   "source": [
    "## Celsius to Fahrenheit"
   ]
  },
  {
   "cell_type": "code",
   "execution_count": 4,
   "id": "0259a05f",
   "metadata": {},
   "outputs": [
    {
     "name": "stdout",
     "output_type": "stream",
     "text": [
      "Your Temperature in Fahrenheit :  68.0\n"
     ]
    }
   ],
   "source": [
    "def convert_CtoF(celsius_temp):\n",
    "    Fahrenheit_temp = (celsius_temp * (9/5)) + 32\n",
    "    print(\"Your Temperature in Fahrenheit : \", round(Fahrenheit_temp,2))\n",
    "\n",
    "    \n",
    "convert_CtoF(20)"
   ]
  },
  {
   "cell_type": "markdown",
   "id": "4621329a",
   "metadata": {},
   "source": [
    "## Kelvin to Fahrenheit"
   ]
  },
  {
   "cell_type": "code",
   "execution_count": 5,
   "id": "16fd04e8",
   "metadata": {},
   "outputs": [
    {
     "name": "stdout",
     "output_type": "stream",
     "text": [
      "Your Temperature in Kelvin :  577.13\n"
     ]
    }
   ],
   "source": [
    "def convert_KtoF(kelvin_input):\n",
    "    fahrenheit_temp = ((kelvin_input - 273.15) * 9/5) + 32\n",
    "    print(\"Your Temperature in Kelvin : \", round(fahrenheit_temp,2))\n",
    "\n",
    "    \n",
    "convert_KtoF(576)"
   ]
  },
  {
   "cell_type": "markdown",
   "id": "176ae1ac",
   "metadata": {},
   "source": [
    "## Basic Theory 3"
   ]
  },
  {
   "cell_type": "markdown",
   "id": "7012eb48",
   "metadata": {},
   "source": [
    "#### Fahrenheit to Celsius\n",
    "Celsius = (Fahrenheit - 32) * 5/9\n",
    "\n",
    "#### Fahrenheit to Kelvin\n",
    "Kelvin = (Fahrenheit + 459.67) * 5/9"
   ]
  },
  {
   "cell_type": "markdown",
   "id": "b4472596",
   "metadata": {},
   "source": [
    "## Fahrenheit to Celsius"
   ]
  },
  {
   "cell_type": "code",
   "execution_count": 6,
   "id": "da356b52",
   "metadata": {},
   "outputs": [
    {
     "name": "stdout",
     "output_type": "stream",
     "text": [
      "Your Temperature in Celsius :  20.56\n"
     ]
    }
   ],
   "source": [
    "def convert_FtoC (fahrenheit_input):\n",
    "    celsius_con = (fahrenheit_input - 32) * 5/9\n",
    "    print(\"Your Temperature in Celsius : \", round(celsius_con, 2))\n",
    "\n",
    "    \n",
    "convert_FtoC(69)"
   ]
  },
  {
   "cell_type": "markdown",
   "id": "cfbac44c",
   "metadata": {},
   "source": [
    "## Fahrenheit to Kelvin"
   ]
  },
  {
   "cell_type": "code",
   "execution_count": 7,
   "id": "7dd789ab",
   "metadata": {},
   "outputs": [
    {
     "name": "stdout",
     "output_type": "stream",
     "text": [
      "Your Temperature in Kelvin :  293.71\n"
     ]
    }
   ],
   "source": [
    "def convert_FtoK (fahrenheit_temp):\n",
    "    kelvin_con = (fahrenheit_temp + 459.67) * 5/9\n",
    "    print(\"Your Temperature in Kelvin : \", round(kelvin_con, 2))\n",
    "\n",
    "\n",
    "convert_FtoK(69)"
   ]
  },
  {
   "cell_type": "code",
   "execution_count": null,
   "id": "ca58f6ee",
   "metadata": {},
   "outputs": [],
   "source": []
  }
 ],
 "metadata": {
  "kernelspec": {
   "display_name": "Python 3 (ipykernel)",
   "language": "python",
   "name": "python3"
  },
  "language_info": {
   "codemirror_mode": {
    "name": "ipython",
    "version": 3
   },
   "file_extension": ".py",
   "mimetype": "text/x-python",
   "name": "python",
   "nbconvert_exporter": "python",
   "pygments_lexer": "ipython3",
   "version": "3.9.7"
  }
 },
 "nbformat": 4,
 "nbformat_minor": 5
}
