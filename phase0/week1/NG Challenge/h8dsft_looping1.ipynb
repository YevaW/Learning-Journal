{
 "cells": [
  {
   "cell_type": "code",
   "execution_count": 21,
   "id": "3c546f35",
   "metadata": {},
   "outputs": [
    {
     "name": "stdout",
     "output_type": "stream",
     "text": [
      "402,984,360,408,980,544,390,984,592,236,942,386,462,418,344,236,566,978,328,162,758,918\n",
      "Done\n"
     ]
    }
   ],
   "source": [
    "numbers = [951, 402, 984, 651, 360, 69, 408, 319, 601, 485, 980, 507, 725, 547, 544, 615, 83, 165, 141, 501, 263, 617, 865, 575, 219, 390, 984, 592, 236, 105, 942, 941, 386, 462, 47, 418, 907, 344, 236, 375, 823, 566, 597, 978, 328, 615, 953, 345, 399, 162, 758, 219, 918, 237, 412, 566, 826, 248, 866, 950, 626, 949]\n",
    "start = 951\n",
    "even_nos = [angka for angka in numbers if angka % 2 == 0]\n",
    "for angka in even_nos:\n",
    "    if(angka == 918):\n",
    "        print(\"{}\".format(angka))\n",
    "        break\n",
    "    print(\"{0}\".format(angka), end=\",\")\n",
    "\n",
    "print(\"Done\")\n"
   ]
  },
  {
   "cell_type": "code",
   "execution_count": 24,
   "id": "68f3bc02",
   "metadata": {},
   "outputs": [
    {
     "name": "stdout",
     "output_type": "stream",
     "text": [
      "402,984,360,408,980,544,390,984,592,236,942,386,462,418,344,236,566,978,328,162,758,918\n",
      "Done\n"
     ]
    }
   ],
   "source": [
    "numbers = [951, 402, 984, 651, 360, 69, 408, 319, 601, 485, 980, 507, 725, 547, 544, 615, 83, 165, 141, 501, 263, 617, 865, 575, 219, 390, 984, 592, 236, 105, 942, 941, 386, 462, 47, 418, 907, 344, 236, 375, 823, 566, 597, 978, 328, 615, 953, 345, 399, 162, 758, 219, 918, 237, 412, 566, 826, 248, 866, 950, 626, 949]\n",
    "#lambda exp.\n",
    "even_numbers = list(filter(lambda angka: (angka % 2 == 0), numbers))\n",
    "for angka in even_numbers:\n",
    "    if(angka == 918):\n",
    "        print(\"{}\".format(angka))\n",
    "        break\n",
    "    print(\"{0}\".format(angka), end=\",\")\n",
    "\n",
    "print(\"Done\")"
   ]
  },
  {
   "cell_type": "code",
   "execution_count": 25,
   "id": "5806b7be",
   "metadata": {},
   "outputs": [
    {
     "name": "stdout",
     "output_type": "stream",
     "text": [
      "402,984,360,408,980,544,390,984,592,236,942,386,462,418,344,236,566,978,328,162,758,918\n",
      "Done\n"
     ]
    }
   ],
   "source": [
    "numbers = [951, 402, 984, 651, 360, 69, 408, 319, 601, 485, 980, 507, 725, 547, 544, 615, 83, 165, 141, 501, 263, 617, 865, 575, 219, 390, 984, 592, 236, 105, 942, 941, 386, 462, 47, 418, 907, 344, 236, 375, 823, 566, 597, 978, 328, 615, 953, 345, 399, 162, 758, 219, 918, 237, 412, 566, 826, 248, 866, 950, 626, 949]\n",
    "#list comprehension\n",
    "even_numbers = [angka for angka in numbers if angka % 2 == 0]\n",
    "for angka in even_numbers:\n",
    "    if(angka == 918):\n",
    "        print(\"{}\".format(angka))\n",
    "        break\n",
    "    print(\"{0}\".format(angka), end=\",\")\n",
    "\n",
    "print(\"Done\")"
   ]
  }
 ],
 "metadata": {
  "kernelspec": {
   "display_name": "Python 3 (ipykernel)",
   "language": "python",
   "name": "python3"
  },
  "language_info": {
   "codemirror_mode": {
    "name": "ipython",
    "version": 3
   },
   "file_extension": ".py",
   "mimetype": "text/x-python",
   "name": "python",
   "nbconvert_exporter": "python",
   "pygments_lexer": "ipython3",
   "version": "3.9.7"
  }
 },
 "nbformat": 4,
 "nbformat_minor": 5
}
