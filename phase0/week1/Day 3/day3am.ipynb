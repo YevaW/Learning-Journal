{
 "cells": [
  {
   "cell_type": "markdown",
   "metadata": {},
   "source": [
    "# Function"
   ]
  },
  {
   "cell_type": "code",
   "execution_count": 5,
   "metadata": {},
   "outputs": [
    {
     "name": "stdout",
     "output_type": "stream",
     "text": [
      "Hello Liu Fei\n",
      "Welcome aboard\n"
     ]
    }
   ],
   "source": [
    "#berfungsi untuk memanggil suatu perintah\n",
    "#contoh\n",
    "#def function_name (parameters):\n",
    "    #'''docstring'''\n",
    "    #statements\n",
    "def greet(first_name, last_name):\n",
    "    print(f\"Hello {first_name} {last_name}\")\n",
    "    print(\"Welcome aboard\")\n",
    "\n",
    "\n",
    "greet(\"Liu\", \"Fei\")"
   ]
  },
  {
   "cell_type": "code",
   "execution_count": 8,
   "metadata": {},
   "outputs": [
    {
     "name": "stdout",
     "output_type": "stream",
     "text": [
      "hello\n"
     ]
    }
   ],
   "source": [
    "#function definition is here\n",
    "def printme( str_input ):\n",
    "    '''this prints a passed string into this function''' #ini buat comment aja\n",
    "    print(str_input)\n",
    "\n",
    "\n",
    "printme(\"hello\")"
   ]
  },
  {
   "cell_type": "code",
   "execution_count": 9,
   "metadata": {},
   "outputs": [
    {
     "name": "stdout",
     "output_type": "stream",
     "text": [
      "Ini pesanan anda spaghetti\n",
      "Hanya menerima cashless\n"
     ]
    }
   ],
   "source": [
    "def nama_makanan (makanan):\n",
    "    print(f\"Ini pesanan anda {makanan}\")\n",
    "    print(\"Hanya menerima cashless\")\n",
    "\n",
    "\n",
    "nama_makanan(\"spaghetti\")"
   ]
  },
  {
   "cell_type": "code",
   "execution_count": 15,
   "metadata": {},
   "outputs": [
    {
     "name": "stdout",
     "output_type": "stream",
     "text": [
      "This is your changed list :  [10, 20, 30, 40, 1, 2, 3, 4]\n"
     ]
    }
   ],
   "source": [
    "def changeme(mylist):\n",
    "    mylist = mylist+[1,2,3,4]\n",
    "    print(\"This is your changed list : \", mylist)\n",
    "    \n",
    "\n",
    "\n",
    "mylist = [10,20,30,40]\n",
    "changeme(mylist)"
   ]
  },
  {
   "cell_type": "code",
   "execution_count": 28,
   "metadata": {},
   "outputs": [
    {
     "data": {
      "text/plain": [
       "[10, 20, 30, 40, 1, 2, 3, 4]"
      ]
     },
     "execution_count": 28,
     "metadata": {},
     "output_type": "execute_result"
    }
   ],
   "source": [
    "def changeme(mylist):\n",
    "    mylist = mylist+[1,2,3,4]\n",
    "    return mylist\n",
    "\n",
    "\n",
    "mylist = [10, 20, 30, 40]\n",
    "changeme(mylist)"
   ]
  },
  {
   "cell_type": "code",
   "execution_count": 18,
   "metadata": {},
   "outputs": [
    {
     "name": "stdout",
     "output_type": "stream",
     "text": [
      "luas segitiga: 6.00\n"
     ]
    }
   ],
   "source": [
    "def luas_segitiga(alas, tinggi):\n",
    "    luas = (alas * tinggi)/2\n",
    "    print('luas segitiga: %.2f' %luas)\n",
    "\n",
    "\n",
    "luas_segitiga(4,3)"
   ]
  },
  {
   "cell_type": "code",
   "execution_count": 27,
   "metadata": {},
   "outputs": [
    {
     "data": {
      "text/plain": [
       "6.0"
      ]
     },
     "execution_count": 27,
     "metadata": {},
     "output_type": "execute_result"
    }
   ],
   "source": [
    "def luas_segitiga(alas, tinggi):\n",
    "    luas = (alas * tinggi)/2\n",
    "    return luas\n",
    "\n",
    "\n",
    "\n",
    "luas_segitiga(4,3)"
   ]
  },
  {
   "cell_type": "markdown",
   "metadata": {},
   "source": [
    "# Anonym Functions"
   ]
  },
  {
   "cell_type": "markdown",
   "metadata": {},
   "source": [
    "### Lambda Functions"
   ]
  },
  {
   "cell_type": "code",
   "execution_count": 29,
   "metadata": {},
   "outputs": [
    {
     "name": "stdout",
     "output_type": "stream",
     "text": [
      "value of total :  30\n",
      "value of total :  40\n"
     ]
    }
   ],
   "source": [
    "sum = lambda arg1, arg2: arg1 + arg2\n",
    "\n",
    "#that lambda function will be equal to :\n",
    "# def sum(arg1, arg2):\n",
    "#     return arg1+arg2\n",
    "\n",
    "#now you can call sum as a function\n",
    "print(\"value of total : \", sum( 10, 20))\n",
    "print(\"value of total : \", sum( 20, 20))\n"
   ]
  },
  {
   "cell_type": "code",
   "execution_count": 31,
   "metadata": {},
   "outputs": [
    {
     "name": "stdout",
     "output_type": "stream",
     "text": [
      "402\n",
      "984\n",
      "360\n",
      "408\n",
      "980\n",
      "544\n",
      "390\n",
      "984\n",
      "592\n",
      "236\n",
      "942\n",
      "386\n",
      "462\n",
      "418\n",
      "344\n",
      "236\n",
      "566\n",
      "978\n",
      "328\n",
      "162\n",
      "758\n",
      "done\n"
     ]
    }
   ],
   "source": [
    "numbers = [951, 402, 984, 651, 360, 69, 408, 319, 601, 485, 980, 507, 725, 547, 544, 615, 83, 165, 141, 501, 263, 617, 865, 575, 219, 390, 984, 592, 236, 105, 942, 941, 386, 462, 47, 418, 907, 344, 236, 375, 823, 566, 597, 978, 328, 615, 953, 345, 399, 162, 758, 219, 918, 237, 412, 566, 826, 248, 866, 950, 626, 949]\n",
    "#lambda exp.\n",
    "even_numbers = list(filter(lambda angka: (angka % 2 == 0), numbers))\n",
    "for angka in even_numbers:\n",
    "    if angka == 918:\n",
    "        break\n",
    "    print(angka)\n",
    "print(\"done\")"
   ]
  },
  {
   "cell_type": "code",
   "execution_count": null,
   "metadata": {},
   "outputs": [],
   "source": []
  }
 ],
 "metadata": {
  "interpreter": {
   "hash": "c006ddb37c72d24e765aeadff54ccdb75f2ebe60215cac25e77ee5cc20223870"
  },
  "kernelspec": {
   "display_name": "Python 3 (ipykernel)",
   "language": "python",
   "name": "python3"
  },
  "language_info": {
   "codemirror_mode": {
    "name": "ipython",
    "version": 3
   },
   "file_extension": ".py",
   "mimetype": "text/x-python",
   "name": "python",
   "nbconvert_exporter": "python",
   "pygments_lexer": "ipython3",
   "version": "3.9.7"
  }
 },
 "nbformat": 4,
 "nbformat_minor": 2
}
