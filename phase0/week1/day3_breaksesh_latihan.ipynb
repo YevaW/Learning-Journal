{
 "cells": [
  {
   "cell_type": "markdown",
   "metadata": {},
   "source": [
    "# Function"
   ]
  },
  {
   "cell_type": "code",
   "execution_count": null,
   "metadata": {},
   "outputs": [],
   "source": [
    "#rumus\n",
    "#def function_name ( parameters ):\n",
    "'''docstring'''\n",
    "#statement(s)\n",
    "\n",
    "#a docstring is used to explain in brief, what a function does\n",
    "#pretty much like a comment. generally three quotes is used so that\n",
    "# the docstring can be extended up to three lines."
   ]
  },
  {
   "cell_type": "code",
   "execution_count": 5,
   "metadata": {},
   "outputs": [
    {
     "name": "stdout",
     "output_type": "stream",
     "text": [
      "5\n"
     ]
    }
   ],
   "source": [
    "#example\n",
    "def my_function(p, l):\n",
    "    '''Function to calculate area of a square'''\n",
    "    print(p * l)\n",
    "\n",
    "print(5*1)"
   ]
  },
  {
   "cell_type": "code",
   "execution_count": null,
   "metadata": {},
   "outputs": [],
   "source": []
  },
  {
   "cell_type": "code",
   "execution_count": 6,
   "metadata": {},
   "outputs": [
    {
     "name": "stdout",
     "output_type": "stream",
     "text": [
      "Good morning John Mulaney\n",
      "Welcome aboard\n"
     ]
    }
   ],
   "source": [
    "#example2\n",
    "def greeting(first_name, last_name):\n",
    "    print(f\"Good morning {first_name} {last_name}\")\n",
    "    print(\"Welcome aboard\")\n",
    "\n",
    "greeting(\"John\", \"Mulaney\")"
   ]
  },
  {
   "cell_type": "markdown",
   "metadata": {},
   "source": [
    "### Pass by reference vs Value"
   ]
  },
  {
   "cell_type": "code",
   "execution_count": null,
   "metadata": {},
   "outputs": [],
   "source": []
  }
 ],
 "metadata": {
  "interpreter": {
   "hash": "c006ddb37c72d24e765aeadff54ccdb75f2ebe60215cac25e77ee5cc20223870"
  },
  "kernelspec": {
   "display_name": "Python 3.10.1 64-bit",
   "language": "python",
   "name": "python3"
  },
  "language_info": {
   "codemirror_mode": {
    "name": "ipython",
    "version": 3
   },
   "file_extension": ".py",
   "mimetype": "text/x-python",
   "name": "python",
   "nbconvert_exporter": "python",
   "pygments_lexer": "ipython3",
   "version": "3.10.1"
  },
  "orig_nbformat": 4
 },
 "nbformat": 4,
 "nbformat_minor": 2
}
