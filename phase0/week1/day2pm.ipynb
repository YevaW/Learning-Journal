{
 "cells": [
  {
   "cell_type": "code",
   "execution_count": null,
   "id": "09848258",
   "metadata": {},
   "outputs": [],
   "source": [
    "angka = 5"
   ]
  },
  {
   "cell_type": "code",
   "execution_count": null,
   "id": "5b393ebd",
   "metadata": {},
   "outputs": [],
   "source": []
  },
  {
   "cell_type": "code",
   "execution_count": null,
   "id": "21318073",
   "metadata": {},
   "outputs": [],
   "source": [
    "angka"
   ]
  },
  {
   "cell_type": "code",
   "execution_count": null,
   "id": "dde875bb",
   "metadata": {},
   "outputs": [],
   "source": [
    "10 == 5"
   ]
  },
  {
   "cell_type": "code",
   "execution_count": null,
   "id": "4b451e97",
   "metadata": {},
   "outputs": [],
   "source": [
    "10 != 5"
   ]
  },
  {
   "cell_type": "code",
   "execution_count": null,
   "id": "eb56639f",
   "metadata": {},
   "outputs": [],
   "source": [
    "angka == 5"
   ]
  },
  {
   "cell_type": "code",
   "execution_count": null,
   "id": "de5e94c9",
   "metadata": {},
   "outputs": [],
   "source": [
    "angka == \"5\""
   ]
  },
  {
   "cell_type": "code",
   "execution_count": null,
   "id": "4f58d9c1",
   "metadata": {},
   "outputs": [],
   "source": [
    "angka = 15\n",
    "print(f\"{angka} lebih besar dari 10\")"
   ]
  },
  {
   "cell_type": "code",
   "execution_count": null,
   "id": "82bbc5c9",
   "metadata": {},
   "outputs": [],
   "source": [
    "angka = 8\n",
    "if angka > 10:\n",
    "    print(f\"{angka} lebih besar dari 10\")\n",
    "    print(\"Ini masuk range\")\n",
    "else :\n",
    "    print(f\"{angka} kurang dari 10\")\n",
    "    print(\"ini tidak masuk range\")\n",
    "print(\"perhitungan selesai\")"
   ]
  },
  {
   "cell_type": "markdown",
   "id": "243b04ef",
   "metadata": {},
   "source": [
    "### Looping"
   ]
  },
  {
   "cell_type": "code",
   "execution_count": null,
   "id": "1d7ef4e4",
   "metadata": {},
   "outputs": [],
   "source": [
    "kali = 0\n",
    "while kali < 5:\n",
    "    print(f\"Kali : {kali}\" )\n",
    "    print(\"halo apa kabar ?\")\n",
    "    kali = kali + 1"
   ]
  },
  {
   "cell_type": "code",
   "execution_count": null,
   "id": "12c2f4dd",
   "metadata": {},
   "outputs": [],
   "source": [
    "kali = 0\n",
    "while kali < 5:\n",
    "    kali = kali + 1\n",
    "    print(f\"Kali : {kali}\" )\n",
    "    print(\"halo apa kabar ?\")\n",
    "     "
   ]
  },
  {
   "cell_type": "code",
   "execution_count": null,
   "id": "46a0a157",
   "metadata": {},
   "outputs": [],
   "source": [
    "#segala sesuatu yang menghasilkan true atau false bisa dimasukkan ke dalam while"
   ]
  },
  {
   "cell_type": "code",
   "execution_count": null,
   "id": "ff3453fa",
   "metadata": {},
   "outputs": [],
   "source": [
    "list_makanan = []\n",
    "makanan = ''\n",
    "while makanan != 'cukup':\n",
    "    if makanan != '':\n",
    "        list_makanan.append(makanan)\n",
    "    makanan = input(\"Masukkan pesanan anda :\")"
   ]
  },
  {
   "cell_type": "code",
   "execution_count": null,
   "id": "4dcf0dbd",
   "metadata": {
    "scrolled": true
   },
   "outputs": [],
   "source": [
    "list_makanan"
   ]
  },
  {
   "cell_type": "code",
   "execution_count": null,
   "id": "b0e47a3a",
   "metadata": {},
   "outputs": [],
   "source": [
    "#tabel perkalian\n",
    "i = 1\n",
    "x = i + 1\n",
    "while x <= 10:\n",
    "    print(f\"{7} x {x} = {7*i}\")"
   ]
  },
  {
   "cell_type": "code",
   "execution_count": null,
   "id": "7192d86e",
   "metadata": {
    "scrolled": true
   },
   "outputs": [],
   "source": [
    "#tabel perkalian\n",
    "i = 1\n",
    "while i <=10:\n",
    "    print(f\"{7} x {i} = {7*i}\")\n",
    "    i = i + 1"
   ]
  },
  {
   "cell_type": "code",
   "execution_count": null,
   "id": "2e8c9472",
   "metadata": {},
   "outputs": [],
   "source": [
    "#tabel perkalian\n",
    "angka in range(1,11,1):\n",
    "    i = angka + 1:\n",
    "        while i <=10:\n",
    "            print(f\"{7} x {i} = {7*i}\")"
   ]
  },
  {
   "cell_type": "code",
   "execution_count": null,
   "id": "1164eafc",
   "metadata": {
    "scrolled": true
   },
   "outputs": [],
   "source": [
    "#tabel perkalian\n",
    "i = 1\n",
    "while i <=10:\n",
    "    print(f\"{7} x {i} = {7*i}\")\n",
    "    i += 1"
   ]
  },
  {
   "cell_type": "code",
   "execution_count": null,
   "id": "d3fe7e10",
   "metadata": {},
   "outputs": [],
   "source": [
    "#while untuk kondisi\n",
    "#while butuh update parameter\n",
    "#for untuk tipe data majemuk (list, tuple, dkk)\n",
    "#for tidak butuh update parameter"
   ]
  },
  {
   "cell_type": "code",
   "execution_count": null,
   "id": "002b45ac",
   "metadata": {},
   "outputs": [],
   "source": [
    "# for loop\n",
    "buahbuahan = [\"pepaya\", \"mangga\", \"pisang\", \"jambu\"]\n",
    "for buah in buahbuahan:\n",
    "    print(f\"saya jual {buah}\")"
   ]
  },
  {
   "cell_type": "code",
   "execution_count": null,
   "id": "3366deb0",
   "metadata": {},
   "outputs": [],
   "source": [
    "#tabel perkalian (dengan loop)\n",
    "for i in (1,2,3,4,5,6,7,8,9,10):\n",
    "    print(f\"{7} x {i} = {7*i}\")"
   ]
  },
  {
   "cell_type": "code",
   "execution_count": null,
   "id": "7b335199",
   "metadata": {},
   "outputs": [],
   "source": [
    "#syntax ; range (a,b,n)\n",
    "#a = nilai awal (angka awal)\n",
    "#b = nilai akhir (angka akhir)\n",
    "#n = step\n",
    "#nilai awal sifatnya inklusif. nilai akhir sifatnya eksklusif"
   ]
  },
  {
   "cell_type": "code",
   "execution_count": null,
   "id": "7b43d280",
   "metadata": {},
   "outputs": [],
   "source": [
    "range(1,10,1)"
   ]
  },
  {
   "cell_type": "code",
   "execution_count": null,
   "id": "c6f8aa48",
   "metadata": {},
   "outputs": [],
   "source": [
    "list(range(1,10,1))"
   ]
  },
  {
   "cell_type": "code",
   "execution_count": null,
   "id": "7d3a05e6",
   "metadata": {},
   "outputs": [],
   "source": [
    "list(range(10))"
   ]
  },
  {
   "cell_type": "code",
   "execution_count": null,
   "id": "2c9475c3",
   "metadata": {},
   "outputs": [],
   "source": [
    "for i in range(1,11):\n",
    "    print(f\"{7} x {i} = {7*i}\")"
   ]
  },
  {
   "cell_type": "code",
   "execution_count": null,
   "id": "ff2d5cdb",
   "metadata": {},
   "outputs": [],
   "source": [
    "#special keyword = break\n",
    "for i in range(1,11):\n",
    "    if i == 7:\n",
    "        break\n",
    "    print(f\"{7} x {i} = {7*i}\")"
   ]
  },
  {
   "cell_type": "code",
   "execution_count": null,
   "id": "4c70efa4",
   "metadata": {},
   "outputs": [],
   "source": [
    "#special keyword = break\n",
    "for i in range(1,11):\n",
    "    print(f\"{7} x {i} = {7*i}\")\n",
    "    if i == 7:\n",
    "        break"
   ]
  },
  {
   "cell_type": "code",
   "execution_count": null,
   "id": "363b0f60",
   "metadata": {},
   "outputs": [],
   "source": [
    "#tabel perkalian\n",
    "i = 1\n",
    "while i <=10:\n",
    "    if i == 7:\n",
    "        break\n",
    "    print(f\"{7} x {i} = {7*i}\")\n",
    "    i += 1"
   ]
  },
  {
   "cell_type": "code",
   "execution_count": null,
   "id": "20594f42",
   "metadata": {},
   "outputs": [],
   "source": [
    "# special keyword : continue\n",
    "for i in range(1,11):\n",
    "    if i == 7:\n",
    "        continue\n",
    "    print(f\"{7} x {i} = {7*i}\")"
   ]
  },
  {
   "cell_type": "markdown",
   "id": "77b7a842",
   "metadata": {},
   "source": [
    "## Mini Game"
   ]
  },
  {
   "cell_type": "code",
   "execution_count": 1,
   "id": "4a7004ec",
   "metadata": {},
   "outputs": [],
   "source": [
    "from random import randint"
   ]
  },
  {
   "cell_type": "code",
   "execution_count": null,
   "id": "3595de0a",
   "metadata": {},
   "outputs": [],
   "source": [
    "randint(1, 10)"
   ]
  },
  {
   "cell_type": "code",
   "execution_count": null,
   "id": "81887a71",
   "metadata": {
    "scrolled": true
   },
   "outputs": [],
   "source": [
    "a = 8\n",
    "b = input(\"Masukkan angka : \")\n",
    "a == b"
   ]
  },
  {
   "cell_type": "code",
   "execution_count": null,
   "id": "6710f158",
   "metadata": {},
   "outputs": [],
   "source": [
    "a = 8\n",
    "b = input(\"Masukkan angka : \")\n",
    "b = int(b)\n",
    "a == b"
   ]
  },
  {
   "cell_type": "code",
   "execution_count": null,
   "id": "44c49bc4",
   "metadata": {},
   "outputs": [],
   "source": [
    "angka_komputer = randint(1, 10)\n",
    "angka_tebakan = 0\n",
    "while angka_tebakan != angka_komputer:\n",
    "    angka_tebakan = input(\"Masukkan Tebakan Anda : \")\n",
    "    angka_tebakan = int(angka_tebakan)\n",
    "    if angka_tebakan < angka_komputer:\n",
    "        print(\"Angka terlalu kecil\")\n",
    "    elif angka_tebakan > angka_komputer:\n",
    "        print(\"Angka terlalu besar\")\n",
    "    else:\n",
    "        print(\"Selamat! Tebakan anda benar\")\n",
    "        print(f\"Angka Komputer adalah {angka_komputer}\")"
   ]
  },
  {
   "cell_type": "code",
   "execution_count": 2,
   "id": "26d4875b",
   "metadata": {},
   "outputs": [
    {
     "name": "stdout",
     "output_type": "stream",
     "text": [
      "Masukkan Tebakan Anda : 1\n",
      "Angka terlalu kecil\n",
      "Anda punya 2 kesempatan tersisa\n",
      "Masukkan Tebakan Anda : 5\n",
      "Selamat! Tebakan anda benar\n",
      "Angka Komputer adalah 5\n",
      "Anda punya 2 kesempatan tersisa\n"
     ]
    }
   ],
   "source": [
    "angka_komputer = randint(1, 10)\n",
    "angka_tebakan = 0\n",
    "kesempatan = 3\n",
    "while angka_tebakan != angka_komputer and kesempatan > 0:\n",
    "    angka_tebakan = input(\"Masukkan Tebakan Anda : \")\n",
    "    angka_tebakan = int(angka_tebakan)\n",
    "    if angka_tebakan < angka_komputer:\n",
    "        print(\"Angka terlalu kecil\")\n",
    "        kesempatan -= 1\n",
    "        print(f\"Anda punya {kesempatan} kesempatan tersisa\")\n",
    "    elif angka_tebakan > angka_komputer:\n",
    "        print(\"Angka terlalu besar\")\n",
    "        kesempatan -= 1\n",
    "        print(f\"Anda punya {kesempatan} kesempatan tersisa\")\n",
    "    else:\n",
    "        print(\"Selamat! Tebakan anda benar\")\n",
    "        print(f\"Angka Komputer adalah {angka_komputer}\")\n",
    "        print(f\"Anda punya {kesempatan} kesempatan tersisa\")\n",
    "    if kesempatan == 0:\n",
    "        print(\"Whoops! Anda Kalah!!\")"
   ]
  },
  {
   "cell_type": "code",
   "execution_count": null,
   "id": "c9cfe9a9",
   "metadata": {},
   "outputs": [],
   "source": []
  }
 ],
 "metadata": {
  "kernelspec": {
   "display_name": "Python 3 (ipykernel)",
   "language": "python",
   "name": "python3"
  },
  "language_info": {
   "codemirror_mode": {
    "name": "ipython",
    "version": 3
   },
   "file_extension": ".py",
   "mimetype": "text/x-python",
   "name": "python",
   "nbconvert_exporter": "python",
   "pygments_lexer": "ipython3",
   "version": "3.9.7"
  }
 },
 "nbformat": 4,
 "nbformat_minor": 5
}
