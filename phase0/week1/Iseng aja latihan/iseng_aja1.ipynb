{
 "cells": [
  {
   "cell_type": "markdown",
   "metadata": {},
   "source": [
    "# Tesla Stock Price Analysis"
   ]
  },
  {
   "cell_type": "markdown",
   "metadata": {},
   "source": [
    "Importing Pandas and Numpy"
   ]
  },
  {
   "cell_type": "code",
   "execution_count": 2,
   "metadata": {},
   "outputs": [],
   "source": [
    "import pandas as pd\n",
    "import numpy as np"
   ]
  },
  {
   "cell_type": "markdown",
   "metadata": {},
   "source": [
    "Importing the datasets used"
   ]
  },
  {
   "cell_type": "code",
   "execution_count": 3,
   "metadata": {},
   "outputs": [],
   "source": [
    "ts = pd.read_csv(\"../Datasets/Tesla.csv - Tesla.csv.csv\")"
   ]
  },
  {
   "cell_type": "markdown",
   "metadata": {},
   "source": [
    "Checking how much data Tesla contains"
   ]
  },
  {
   "cell_type": "code",
   "execution_count": 8,
   "metadata": {},
   "outputs": [
    {
     "data": {
      "text/plain": [
       "1692"
      ]
     },
     "execution_count": 8,
     "metadata": {},
     "output_type": "execute_result"
    }
   ],
   "source": [
    "len(ts) #len is used to see the number of rows"
   ]
  },
  {
   "cell_type": "code",
   "execution_count": 9,
   "metadata": {},
   "outputs": [
    {
     "data": {
      "text/plain": [
       "(1692, 7)"
      ]
     },
     "execution_count": 9,
     "metadata": {},
     "output_type": "execute_result"
    }
   ],
   "source": [
    "ts.shape #this is to see the dimenasionality.\n",
    "#the result is a Tuple containing the number of rows and columns."
   ]
  },
  {
   "cell_type": "code",
   "execution_count": 10,
   "metadata": {},
   "outputs": [
    {
     "data": {
      "text/html": [
       "<div>\n",
       "<style scoped>\n",
       "    .dataframe tbody tr th:only-of-type {\n",
       "        vertical-align: middle;\n",
       "    }\n",
       "\n",
       "    .dataframe tbody tr th {\n",
       "        vertical-align: top;\n",
       "    }\n",
       "\n",
       "    .dataframe thead th {\n",
       "        text-align: right;\n",
       "    }\n",
       "</style>\n",
       "<table border=\"1\" class=\"dataframe\">\n",
       "  <thead>\n",
       "    <tr style=\"text-align: right;\">\n",
       "      <th></th>\n",
       "      <th>Date</th>\n",
       "      <th>Open</th>\n",
       "      <th>High</th>\n",
       "      <th>Low</th>\n",
       "      <th>Close</th>\n",
       "      <th>Volume</th>\n",
       "      <th>Adj Close</th>\n",
       "    </tr>\n",
       "  </thead>\n",
       "  <tbody>\n",
       "    <tr>\n",
       "      <th>0</th>\n",
       "      <td>6/29/2010</td>\n",
       "      <td>19.000000</td>\n",
       "      <td>25.00</td>\n",
       "      <td>17.540001</td>\n",
       "      <td>23.889999</td>\n",
       "      <td>18766300</td>\n",
       "      <td>23.889999</td>\n",
       "    </tr>\n",
       "    <tr>\n",
       "      <th>1</th>\n",
       "      <td>6/30/2010</td>\n",
       "      <td>25.790001</td>\n",
       "      <td>30.42</td>\n",
       "      <td>23.299999</td>\n",
       "      <td>23.830000</td>\n",
       "      <td>17187100</td>\n",
       "      <td>23.830000</td>\n",
       "    </tr>\n",
       "    <tr>\n",
       "      <th>2</th>\n",
       "      <td>7/1/2010</td>\n",
       "      <td>25.000000</td>\n",
       "      <td>25.92</td>\n",
       "      <td>20.270000</td>\n",
       "      <td>21.959999</td>\n",
       "      <td>8218800</td>\n",
       "      <td>21.959999</td>\n",
       "    </tr>\n",
       "    <tr>\n",
       "      <th>3</th>\n",
       "      <td>7/2/2010</td>\n",
       "      <td>23.000000</td>\n",
       "      <td>23.10</td>\n",
       "      <td>18.709999</td>\n",
       "      <td>19.200001</td>\n",
       "      <td>5139800</td>\n",
       "      <td>19.200001</td>\n",
       "    </tr>\n",
       "    <tr>\n",
       "      <th>4</th>\n",
       "      <td>7/6/2010</td>\n",
       "      <td>20.000000</td>\n",
       "      <td>20.00</td>\n",
       "      <td>15.830000</td>\n",
       "      <td>16.110001</td>\n",
       "      <td>6866900</td>\n",
       "      <td>16.110001</td>\n",
       "    </tr>\n",
       "  </tbody>\n",
       "</table>\n",
       "</div>"
      ],
      "text/plain": [
       "        Date       Open   High        Low      Close    Volume  Adj Close\n",
       "0  6/29/2010  19.000000  25.00  17.540001  23.889999  18766300  23.889999\n",
       "1  6/30/2010  25.790001  30.42  23.299999  23.830000  17187100  23.830000\n",
       "2   7/1/2010  25.000000  25.92  20.270000  21.959999   8218800  21.959999\n",
       "3   7/2/2010  23.000000  23.10  18.709999  19.200001   5139800  19.200001\n",
       "4   7/6/2010  20.000000  20.00  15.830000  16.110001   6866900  16.110001"
      ]
     },
     "execution_count": 10,
     "metadata": {},
     "output_type": "execute_result"
    }
   ],
   "source": [
    "ts.head() #look at the first five rows.\n",
    "#the parentheses could be filled with numbers to determine the number of rows shown"
   ]
  },
  {
   "cell_type": "code",
   "execution_count": 15,
   "metadata": {},
   "outputs": [],
   "source": [
    "pd.set_option(\"display.max.columns\", None)"
   ]
  },
  {
   "cell_type": "code",
   "execution_count": 14,
   "metadata": {},
   "outputs": [],
   "source": [
    "pd.set_option(\"display.precision\", 2) #this is to set the decimals into 2 numbers"
   ]
  },
  {
   "cell_type": "code",
   "execution_count": 16,
   "metadata": {},
   "outputs": [
    {
     "data": {
      "text/html": [
       "<div>\n",
       "<style scoped>\n",
       "    .dataframe tbody tr th:only-of-type {\n",
       "        vertical-align: middle;\n",
       "    }\n",
       "\n",
       "    .dataframe tbody tr th {\n",
       "        vertical-align: top;\n",
       "    }\n",
       "\n",
       "    .dataframe thead th {\n",
       "        text-align: right;\n",
       "    }\n",
       "</style>\n",
       "<table border=\"1\" class=\"dataframe\">\n",
       "  <thead>\n",
       "    <tr style=\"text-align: right;\">\n",
       "      <th></th>\n",
       "      <th>Date</th>\n",
       "      <th>Open</th>\n",
       "      <th>High</th>\n",
       "      <th>Low</th>\n",
       "      <th>Close</th>\n",
       "      <th>Volume</th>\n",
       "      <th>Adj Close</th>\n",
       "    </tr>\n",
       "  </thead>\n",
       "  <tbody>\n",
       "    <tr>\n",
       "      <th>0</th>\n",
       "      <td>6/29/2010</td>\n",
       "      <td>19.00</td>\n",
       "      <td>25.00</td>\n",
       "      <td>17.54</td>\n",
       "      <td>23.89</td>\n",
       "      <td>18766300</td>\n",
       "      <td>23.89</td>\n",
       "    </tr>\n",
       "    <tr>\n",
       "      <th>1</th>\n",
       "      <td>6/30/2010</td>\n",
       "      <td>25.79</td>\n",
       "      <td>30.42</td>\n",
       "      <td>23.30</td>\n",
       "      <td>23.83</td>\n",
       "      <td>17187100</td>\n",
       "      <td>23.83</td>\n",
       "    </tr>\n",
       "    <tr>\n",
       "      <th>2</th>\n",
       "      <td>7/1/2010</td>\n",
       "      <td>25.00</td>\n",
       "      <td>25.92</td>\n",
       "      <td>20.27</td>\n",
       "      <td>21.96</td>\n",
       "      <td>8218800</td>\n",
       "      <td>21.96</td>\n",
       "    </tr>\n",
       "    <tr>\n",
       "      <th>3</th>\n",
       "      <td>7/2/2010</td>\n",
       "      <td>23.00</td>\n",
       "      <td>23.10</td>\n",
       "      <td>18.71</td>\n",
       "      <td>19.20</td>\n",
       "      <td>5139800</td>\n",
       "      <td>19.20</td>\n",
       "    </tr>\n",
       "    <tr>\n",
       "      <th>4</th>\n",
       "      <td>7/6/2010</td>\n",
       "      <td>20.00</td>\n",
       "      <td>20.00</td>\n",
       "      <td>15.83</td>\n",
       "      <td>16.11</td>\n",
       "      <td>6866900</td>\n",
       "      <td>16.11</td>\n",
       "    </tr>\n",
       "    <tr>\n",
       "      <th>...</th>\n",
       "      <td>...</td>\n",
       "      <td>...</td>\n",
       "      <td>...</td>\n",
       "      <td>...</td>\n",
       "      <td>...</td>\n",
       "      <td>...</td>\n",
       "      <td>...</td>\n",
       "    </tr>\n",
       "    <tr>\n",
       "      <th>1687</th>\n",
       "      <td>3/13/2017</td>\n",
       "      <td>244.82</td>\n",
       "      <td>246.85</td>\n",
       "      <td>242.78</td>\n",
       "      <td>246.17</td>\n",
       "      <td>3010700</td>\n",
       "      <td>246.17</td>\n",
       "    </tr>\n",
       "    <tr>\n",
       "      <th>1688</th>\n",
       "      <td>3/14/2017</td>\n",
       "      <td>246.11</td>\n",
       "      <td>258.12</td>\n",
       "      <td>246.02</td>\n",
       "      <td>258.00</td>\n",
       "      <td>7575500</td>\n",
       "      <td>258.00</td>\n",
       "    </tr>\n",
       "    <tr>\n",
       "      <th>1689</th>\n",
       "      <td>3/15/2017</td>\n",
       "      <td>257.00</td>\n",
       "      <td>261.00</td>\n",
       "      <td>254.27</td>\n",
       "      <td>255.73</td>\n",
       "      <td>4816600</td>\n",
       "      <td>255.73</td>\n",
       "    </tr>\n",
       "    <tr>\n",
       "      <th>1690</th>\n",
       "      <td>3/16/2017</td>\n",
       "      <td>262.40</td>\n",
       "      <td>265.75</td>\n",
       "      <td>259.06</td>\n",
       "      <td>262.05</td>\n",
       "      <td>7100400</td>\n",
       "      <td>262.05</td>\n",
       "    </tr>\n",
       "    <tr>\n",
       "      <th>1691</th>\n",
       "      <td>3/17/2017</td>\n",
       "      <td>264.00</td>\n",
       "      <td>265.33</td>\n",
       "      <td>261.20</td>\n",
       "      <td>261.50</td>\n",
       "      <td>6475900</td>\n",
       "      <td>261.50</td>\n",
       "    </tr>\n",
       "  </tbody>\n",
       "</table>\n",
       "<p>1692 rows × 7 columns</p>\n",
       "</div>"
      ],
      "text/plain": [
       "           Date    Open    High     Low   Close    Volume  Adj Close\n",
       "0     6/29/2010   19.00   25.00   17.54   23.89  18766300      23.89\n",
       "1     6/30/2010   25.79   30.42   23.30   23.83  17187100      23.83\n",
       "2      7/1/2010   25.00   25.92   20.27   21.96   8218800      21.96\n",
       "3      7/2/2010   23.00   23.10   18.71   19.20   5139800      19.20\n",
       "4      7/6/2010   20.00   20.00   15.83   16.11   6866900      16.11\n",
       "...         ...     ...     ...     ...     ...       ...        ...\n",
       "1687  3/13/2017  244.82  246.85  242.78  246.17   3010700     246.17\n",
       "1688  3/14/2017  246.11  258.12  246.02  258.00   7575500     258.00\n",
       "1689  3/15/2017  257.00  261.00  254.27  255.73   4816600     255.73\n",
       "1690  3/16/2017  262.40  265.75  259.06  262.05   7100400     262.05\n",
       "1691  3/17/2017  264.00  265.33  261.20  261.50   6475900     261.50\n",
       "\n",
       "[1692 rows x 7 columns]"
      ]
     },
     "execution_count": 16,
     "metadata": {},
     "output_type": "execute_result"
    }
   ],
   "source": [
    "ts"
   ]
  },
  {
   "cell_type": "code",
   "execution_count": 17,
   "metadata": {},
   "outputs": [
    {
     "data": {
      "text/html": [
       "<div>\n",
       "<style scoped>\n",
       "    .dataframe tbody tr th:only-of-type {\n",
       "        vertical-align: middle;\n",
       "    }\n",
       "\n",
       "    .dataframe tbody tr th {\n",
       "        vertical-align: top;\n",
       "    }\n",
       "\n",
       "    .dataframe thead th {\n",
       "        text-align: right;\n",
       "    }\n",
       "</style>\n",
       "<table border=\"1\" class=\"dataframe\">\n",
       "  <thead>\n",
       "    <tr style=\"text-align: right;\">\n",
       "      <th></th>\n",
       "      <th>Date</th>\n",
       "      <th>Open</th>\n",
       "      <th>High</th>\n",
       "      <th>Low</th>\n",
       "      <th>Close</th>\n",
       "      <th>Volume</th>\n",
       "      <th>Adj Close</th>\n",
       "    </tr>\n",
       "  </thead>\n",
       "  <tbody>\n",
       "    <tr>\n",
       "      <th>1687</th>\n",
       "      <td>3/13/2017</td>\n",
       "      <td>244.82</td>\n",
       "      <td>246.85</td>\n",
       "      <td>242.78</td>\n",
       "      <td>246.17</td>\n",
       "      <td>3010700</td>\n",
       "      <td>246.17</td>\n",
       "    </tr>\n",
       "    <tr>\n",
       "      <th>1688</th>\n",
       "      <td>3/14/2017</td>\n",
       "      <td>246.11</td>\n",
       "      <td>258.12</td>\n",
       "      <td>246.02</td>\n",
       "      <td>258.00</td>\n",
       "      <td>7575500</td>\n",
       "      <td>258.00</td>\n",
       "    </tr>\n",
       "    <tr>\n",
       "      <th>1689</th>\n",
       "      <td>3/15/2017</td>\n",
       "      <td>257.00</td>\n",
       "      <td>261.00</td>\n",
       "      <td>254.27</td>\n",
       "      <td>255.73</td>\n",
       "      <td>4816600</td>\n",
       "      <td>255.73</td>\n",
       "    </tr>\n",
       "    <tr>\n",
       "      <th>1690</th>\n",
       "      <td>3/16/2017</td>\n",
       "      <td>262.40</td>\n",
       "      <td>265.75</td>\n",
       "      <td>259.06</td>\n",
       "      <td>262.05</td>\n",
       "      <td>7100400</td>\n",
       "      <td>262.05</td>\n",
       "    </tr>\n",
       "    <tr>\n",
       "      <th>1691</th>\n",
       "      <td>3/17/2017</td>\n",
       "      <td>264.00</td>\n",
       "      <td>265.33</td>\n",
       "      <td>261.20</td>\n",
       "      <td>261.50</td>\n",
       "      <td>6475900</td>\n",
       "      <td>261.50</td>\n",
       "    </tr>\n",
       "  </tbody>\n",
       "</table>\n",
       "</div>"
      ],
      "text/plain": [
       "           Date    Open    High     Low   Close   Volume  Adj Close\n",
       "1687  3/13/2017  244.82  246.85  242.78  246.17  3010700     246.17\n",
       "1688  3/14/2017  246.11  258.12  246.02  258.00  7575500     258.00\n",
       "1689  3/15/2017  257.00  261.00  254.27  255.73  4816600     255.73\n",
       "1690  3/16/2017  262.40  265.75  259.06  262.05  7100400     262.05\n",
       "1691  3/17/2017  264.00  265.33  261.20  261.50  6475900     261.50"
      ]
     },
     "execution_count": 17,
     "metadata": {},
     "output_type": "execute_result"
    }
   ],
   "source": [
    "ts.tail() #displaying five bottom datas"
   ]
  },
  {
   "cell_type": "code",
   "execution_count": 18,
   "metadata": {},
   "outputs": [
    {
     "name": "stdout",
     "output_type": "stream",
     "text": [
      "<class 'pandas.core.frame.DataFrame'>\n",
      "RangeIndex: 1692 entries, 0 to 1691\n",
      "Data columns (total 7 columns):\n",
      " #   Column     Non-Null Count  Dtype  \n",
      "---  ------     --------------  -----  \n",
      " 0   Date       1692 non-null   object \n",
      " 1   Open       1692 non-null   float64\n",
      " 2   High       1692 non-null   float64\n",
      " 3   Low        1692 non-null   float64\n",
      " 4   Close      1692 non-null   float64\n",
      " 5   Volume     1692 non-null   int64  \n",
      " 6   Adj Close  1692 non-null   float64\n",
      "dtypes: float64(5), int64(1), object(1)\n",
      "memory usage: 92.7+ KB\n"
     ]
    }
   ],
   "source": [
    "ts.info() #displaying data types"
   ]
  },
  {
   "cell_type": "code",
   "execution_count": 51,
   "metadata": {},
   "outputs": [
    {
     "data": {
      "text/plain": [
       "<bound method DataFrame.notna of            Date    Open    High     Low   Close    Volume  Adj Close\n",
       "0     6/29/2010   19.00   25.00   17.54   23.89  18766300      23.89\n",
       "1     6/30/2010   25.79   30.42   23.30   23.83  17187100      23.83\n",
       "2      7/1/2010   25.00   25.92   20.27   21.96   8218800      21.96\n",
       "3      7/2/2010   23.00   23.10   18.71   19.20   5139800      19.20\n",
       "4      7/6/2010   20.00   20.00   15.83   16.11   6866900      16.11\n",
       "...         ...     ...     ...     ...     ...       ...        ...\n",
       "1687  3/13/2017  244.82  246.85  242.78  246.17   3010700     246.17\n",
       "1688  3/14/2017  246.11  258.12  246.02  258.00   7575500     258.00\n",
       "1689  3/15/2017  257.00  261.00  254.27  255.73   4816600     255.73\n",
       "1690  3/16/2017  262.40  265.75  259.06  262.05   7100400     262.05\n",
       "1691  3/17/2017  264.00  265.33  261.20  261.50   6475900     261.50\n",
       "\n",
       "[1692 rows x 7 columns]>"
      ]
     },
     "execution_count": 51,
     "metadata": {},
     "output_type": "execute_result"
    }
   ],
   "source": [
    "ts.notna"
   ]
  },
  {
   "cell_type": "markdown",
   "metadata": {},
   "source": [
    "- the data doesn't have any missing values. all values are intact.\n",
    "- the date dtype could be changed in order to save some memory usage"
   ]
  },
  {
   "cell_type": "markdown",
   "metadata": {},
   "source": [
    "### Showing Basic Statistics"
   ]
  },
  {
   "cell_type": "code",
   "execution_count": 19,
   "metadata": {},
   "outputs": [
    {
     "data": {
      "text/html": [
       "<div>\n",
       "<style scoped>\n",
       "    .dataframe tbody tr th:only-of-type {\n",
       "        vertical-align: middle;\n",
       "    }\n",
       "\n",
       "    .dataframe tbody tr th {\n",
       "        vertical-align: top;\n",
       "    }\n",
       "\n",
       "    .dataframe thead th {\n",
       "        text-align: right;\n",
       "    }\n",
       "</style>\n",
       "<table border=\"1\" class=\"dataframe\">\n",
       "  <thead>\n",
       "    <tr style=\"text-align: right;\">\n",
       "      <th></th>\n",
       "      <th>Open</th>\n",
       "      <th>High</th>\n",
       "      <th>Low</th>\n",
       "      <th>Close</th>\n",
       "      <th>Volume</th>\n",
       "      <th>Adj Close</th>\n",
       "    </tr>\n",
       "  </thead>\n",
       "  <tbody>\n",
       "    <tr>\n",
       "      <th>count</th>\n",
       "      <td>1692.00</td>\n",
       "      <td>1692.00</td>\n",
       "      <td>1692.00</td>\n",
       "      <td>1692.00</td>\n",
       "      <td>1.69e+03</td>\n",
       "      <td>1692.00</td>\n",
       "    </tr>\n",
       "    <tr>\n",
       "      <th>mean</th>\n",
       "      <td>132.44</td>\n",
       "      <td>134.77</td>\n",
       "      <td>130.00</td>\n",
       "      <td>132.43</td>\n",
       "      <td>4.27e+06</td>\n",
       "      <td>132.43</td>\n",
       "    </tr>\n",
       "    <tr>\n",
       "      <th>std</th>\n",
       "      <td>94.31</td>\n",
       "      <td>95.69</td>\n",
       "      <td>92.86</td>\n",
       "      <td>94.31</td>\n",
       "      <td>4.30e+06</td>\n",
       "      <td>94.31</td>\n",
       "    </tr>\n",
       "    <tr>\n",
       "      <th>min</th>\n",
       "      <td>16.14</td>\n",
       "      <td>16.63</td>\n",
       "      <td>14.98</td>\n",
       "      <td>15.80</td>\n",
       "      <td>1.18e+05</td>\n",
       "      <td>15.80</td>\n",
       "    </tr>\n",
       "    <tr>\n",
       "      <th>25%</th>\n",
       "      <td>30.00</td>\n",
       "      <td>30.65</td>\n",
       "      <td>29.21</td>\n",
       "      <td>29.88</td>\n",
       "      <td>1.19e+06</td>\n",
       "      <td>29.88</td>\n",
       "    </tr>\n",
       "    <tr>\n",
       "      <th>50%</th>\n",
       "      <td>156.33</td>\n",
       "      <td>162.37</td>\n",
       "      <td>153.15</td>\n",
       "      <td>158.16</td>\n",
       "      <td>3.18e+06</td>\n",
       "      <td>158.16</td>\n",
       "    </tr>\n",
       "    <tr>\n",
       "      <th>75%</th>\n",
       "      <td>220.56</td>\n",
       "      <td>224.10</td>\n",
       "      <td>217.12</td>\n",
       "      <td>220.02</td>\n",
       "      <td>5.66e+06</td>\n",
       "      <td>220.02</td>\n",
       "    </tr>\n",
       "    <tr>\n",
       "      <th>max</th>\n",
       "      <td>287.67</td>\n",
       "      <td>291.42</td>\n",
       "      <td>280.40</td>\n",
       "      <td>286.04</td>\n",
       "      <td>3.72e+07</td>\n",
       "      <td>286.04</td>\n",
       "    </tr>\n",
       "  </tbody>\n",
       "</table>\n",
       "</div>"
      ],
      "text/plain": [
       "          Open     High      Low    Close    Volume  Adj Close\n",
       "count  1692.00  1692.00  1692.00  1692.00  1.69e+03    1692.00\n",
       "mean    132.44   134.77   130.00   132.43  4.27e+06     132.43\n",
       "std      94.31    95.69    92.86    94.31  4.30e+06      94.31\n",
       "min      16.14    16.63    14.98    15.80  1.18e+05      15.80\n",
       "25%      30.00    30.65    29.21    29.88  1.19e+06      29.88\n",
       "50%     156.33   162.37   153.15   158.16  3.18e+06     158.16\n",
       "75%     220.56   224.10   217.12   220.02  5.66e+06     220.02\n",
       "max     287.67   291.42   280.40   286.04  3.72e+07     286.04"
      ]
     },
     "execution_count": 19,
     "metadata": {},
     "output_type": "execute_result"
    }
   ],
   "source": [
    "ts.describe()"
   ]
  },
  {
   "cell_type": "code",
   "execution_count": 22,
   "metadata": {},
   "outputs": [
    {
     "data": {
      "text/html": [
       "<div>\n",
       "<style scoped>\n",
       "    .dataframe tbody tr th:only-of-type {\n",
       "        vertical-align: middle;\n",
       "    }\n",
       "\n",
       "    .dataframe tbody tr th {\n",
       "        vertical-align: top;\n",
       "    }\n",
       "\n",
       "    .dataframe thead th {\n",
       "        text-align: right;\n",
       "    }\n",
       "</style>\n",
       "<table border=\"1\" class=\"dataframe\">\n",
       "  <thead>\n",
       "    <tr style=\"text-align: right;\">\n",
       "      <th></th>\n",
       "      <th>count</th>\n",
       "      <th>mean</th>\n",
       "      <th>std</th>\n",
       "      <th>min</th>\n",
       "      <th>25%</th>\n",
       "      <th>50%</th>\n",
       "      <th>75%</th>\n",
       "      <th>max</th>\n",
       "    </tr>\n",
       "  </thead>\n",
       "  <tbody>\n",
       "    <tr>\n",
       "      <th>Open</th>\n",
       "      <td>1692.0</td>\n",
       "      <td>1.32e+02</td>\n",
       "      <td>9.43e+01</td>\n",
       "      <td>16.14</td>\n",
       "      <td>3.00e+01</td>\n",
       "      <td>1.56e+02</td>\n",
       "      <td>2.21e+02</td>\n",
       "      <td>2.88e+02</td>\n",
       "    </tr>\n",
       "    <tr>\n",
       "      <th>High</th>\n",
       "      <td>1692.0</td>\n",
       "      <td>1.35e+02</td>\n",
       "      <td>9.57e+01</td>\n",
       "      <td>16.63</td>\n",
       "      <td>3.06e+01</td>\n",
       "      <td>1.62e+02</td>\n",
       "      <td>2.24e+02</td>\n",
       "      <td>2.91e+02</td>\n",
       "    </tr>\n",
       "    <tr>\n",
       "      <th>Low</th>\n",
       "      <td>1692.0</td>\n",
       "      <td>1.30e+02</td>\n",
       "      <td>9.29e+01</td>\n",
       "      <td>14.98</td>\n",
       "      <td>2.92e+01</td>\n",
       "      <td>1.53e+02</td>\n",
       "      <td>2.17e+02</td>\n",
       "      <td>2.80e+02</td>\n",
       "    </tr>\n",
       "    <tr>\n",
       "      <th>Close</th>\n",
       "      <td>1692.0</td>\n",
       "      <td>1.32e+02</td>\n",
       "      <td>9.43e+01</td>\n",
       "      <td>15.80</td>\n",
       "      <td>2.99e+01</td>\n",
       "      <td>1.58e+02</td>\n",
       "      <td>2.20e+02</td>\n",
       "      <td>2.86e+02</td>\n",
       "    </tr>\n",
       "    <tr>\n",
       "      <th>Volume</th>\n",
       "      <td>1692.0</td>\n",
       "      <td>4.27e+06</td>\n",
       "      <td>4.30e+06</td>\n",
       "      <td>118500.00</td>\n",
       "      <td>1.19e+06</td>\n",
       "      <td>3.18e+06</td>\n",
       "      <td>5.66e+06</td>\n",
       "      <td>3.72e+07</td>\n",
       "    </tr>\n",
       "    <tr>\n",
       "      <th>Adj Close</th>\n",
       "      <td>1692.0</td>\n",
       "      <td>1.32e+02</td>\n",
       "      <td>9.43e+01</td>\n",
       "      <td>15.80</td>\n",
       "      <td>2.99e+01</td>\n",
       "      <td>1.58e+02</td>\n",
       "      <td>2.20e+02</td>\n",
       "      <td>2.86e+02</td>\n",
       "    </tr>\n",
       "  </tbody>\n",
       "</table>\n",
       "</div>"
      ],
      "text/plain": [
       "            count      mean       std        min       25%       50%  \\\n",
       "Open       1692.0  1.32e+02  9.43e+01      16.14  3.00e+01  1.56e+02   \n",
       "High       1692.0  1.35e+02  9.57e+01      16.63  3.06e+01  1.62e+02   \n",
       "Low        1692.0  1.30e+02  9.29e+01      14.98  2.92e+01  1.53e+02   \n",
       "Close      1692.0  1.32e+02  9.43e+01      15.80  2.99e+01  1.58e+02   \n",
       "Volume     1692.0  4.27e+06  4.30e+06  118500.00  1.19e+06  3.18e+06   \n",
       "Adj Close  1692.0  1.32e+02  9.43e+01      15.80  2.99e+01  1.58e+02   \n",
       "\n",
       "                75%       max  \n",
       "Open       2.21e+02  2.88e+02  \n",
       "High       2.24e+02  2.91e+02  \n",
       "Low        2.17e+02  2.80e+02  \n",
       "Close      2.20e+02  2.86e+02  \n",
       "Volume     5.66e+06  3.72e+07  \n",
       "Adj Close  2.20e+02  2.86e+02  "
      ]
     },
     "execution_count": 22,
     "metadata": {},
     "output_type": "execute_result"
    }
   ],
   "source": [
    "ts.describe().T #transpose. Baris jadi kolom, kolom jadi baris"
   ]
  },
  {
   "cell_type": "markdown",
   "metadata": {},
   "source": [
    "### Querying Data"
   ]
  },
  {
   "cell_type": "code",
   "execution_count": 25,
   "metadata": {},
   "outputs": [
    {
     "data": {
      "text/html": [
       "<div>\n",
       "<style scoped>\n",
       "    .dataframe tbody tr th:only-of-type {\n",
       "        vertical-align: middle;\n",
       "    }\n",
       "\n",
       "    .dataframe tbody tr th {\n",
       "        vertical-align: top;\n",
       "    }\n",
       "\n",
       "    .dataframe thead th {\n",
       "        text-align: right;\n",
       "    }\n",
       "</style>\n",
       "<table border=\"1\" class=\"dataframe\">\n",
       "  <thead>\n",
       "    <tr style=\"text-align: right;\">\n",
       "      <th></th>\n",
       "      <th>Date</th>\n",
       "      <th>Open</th>\n",
       "      <th>High</th>\n",
       "      <th>Low</th>\n",
       "      <th>Close</th>\n",
       "      <th>Volume</th>\n",
       "      <th>Adj Close</th>\n",
       "    </tr>\n",
       "  </thead>\n",
       "  <tbody>\n",
       "    <tr>\n",
       "      <th>0</th>\n",
       "      <td>6/29/2010</td>\n",
       "      <td>19.00</td>\n",
       "      <td>25.00</td>\n",
       "      <td>17.54</td>\n",
       "      <td>23.89</td>\n",
       "      <td>18766300</td>\n",
       "      <td>23.89</td>\n",
       "    </tr>\n",
       "    <tr>\n",
       "      <th>1</th>\n",
       "      <td>6/30/2010</td>\n",
       "      <td>25.79</td>\n",
       "      <td>30.42</td>\n",
       "      <td>23.30</td>\n",
       "      <td>23.83</td>\n",
       "      <td>17187100</td>\n",
       "      <td>23.83</td>\n",
       "    </tr>\n",
       "    <tr>\n",
       "      <th>2</th>\n",
       "      <td>7/1/2010</td>\n",
       "      <td>25.00</td>\n",
       "      <td>25.92</td>\n",
       "      <td>20.27</td>\n",
       "      <td>21.96</td>\n",
       "      <td>8218800</td>\n",
       "      <td>21.96</td>\n",
       "    </tr>\n",
       "    <tr>\n",
       "      <th>3</th>\n",
       "      <td>7/2/2010</td>\n",
       "      <td>23.00</td>\n",
       "      <td>23.10</td>\n",
       "      <td>18.71</td>\n",
       "      <td>19.20</td>\n",
       "      <td>5139800</td>\n",
       "      <td>19.20</td>\n",
       "    </tr>\n",
       "    <tr>\n",
       "      <th>4</th>\n",
       "      <td>7/6/2010</td>\n",
       "      <td>20.00</td>\n",
       "      <td>20.00</td>\n",
       "      <td>15.83</td>\n",
       "      <td>16.11</td>\n",
       "      <td>6866900</td>\n",
       "      <td>16.11</td>\n",
       "    </tr>\n",
       "  </tbody>\n",
       "</table>\n",
       "</div>"
      ],
      "text/plain": [
       "        Date   Open   High    Low  Close    Volume  Adj Close\n",
       "0  6/29/2010  19.00  25.00  17.54  23.89  18766300      23.89\n",
       "1  6/30/2010  25.79  30.42  23.30  23.83  17187100      23.83\n",
       "2   7/1/2010  25.00  25.92  20.27  21.96   8218800      21.96\n",
       "3   7/2/2010  23.00  23.10  18.71  19.20   5139800      19.20\n",
       "4   7/6/2010  20.00  20.00  15.83  16.11   6866900      16.11"
      ]
     },
     "execution_count": 25,
     "metadata": {},
     "output_type": "execute_result"
    }
   ],
   "source": [
    "ts.head()"
   ]
  },
  {
   "cell_type": "code",
   "execution_count": 29,
   "metadata": {},
   "outputs": [
    {
     "data": {
      "text/html": [
       "<div>\n",
       "<style scoped>\n",
       "    .dataframe tbody tr th:only-of-type {\n",
       "        vertical-align: middle;\n",
       "    }\n",
       "\n",
       "    .dataframe tbody tr th {\n",
       "        vertical-align: top;\n",
       "    }\n",
       "\n",
       "    .dataframe thead th {\n",
       "        text-align: right;\n",
       "    }\n",
       "</style>\n",
       "<table border=\"1\" class=\"dataframe\">\n",
       "  <thead>\n",
       "    <tr style=\"text-align: right;\">\n",
       "      <th></th>\n",
       "      <th>Date</th>\n",
       "      <th>Open</th>\n",
       "      <th>High</th>\n",
       "      <th>Low</th>\n",
       "      <th>Close</th>\n",
       "      <th>Volume</th>\n",
       "      <th>Adj Close</th>\n",
       "    </tr>\n",
       "  </thead>\n",
       "  <tbody>\n",
       "    <tr>\n",
       "      <th>765</th>\n",
       "      <td>7/15/2013</td>\n",
       "      <td>133.03</td>\n",
       "      <td>133.26</td>\n",
       "      <td>126.82</td>\n",
       "      <td>127.26</td>\n",
       "      <td>9922400</td>\n",
       "      <td>127.26</td>\n",
       "    </tr>\n",
       "    <tr>\n",
       "      <th>776</th>\n",
       "      <td>7/30/2013</td>\n",
       "      <td>134.80</td>\n",
       "      <td>137.49</td>\n",
       "      <td>128.18</td>\n",
       "      <td>131.74</td>\n",
       "      <td>13127000</td>\n",
       "      <td>131.74</td>\n",
       "    </tr>\n",
       "    <tr>\n",
       "      <th>777</th>\n",
       "      <td>7/31/2013</td>\n",
       "      <td>132.57</td>\n",
       "      <td>134.97</td>\n",
       "      <td>131.45</td>\n",
       "      <td>134.28</td>\n",
       "      <td>6351700</td>\n",
       "      <td>134.28</td>\n",
       "    </tr>\n",
       "    <tr>\n",
       "      <th>778</th>\n",
       "      <td>8/1/2013</td>\n",
       "      <td>135.00</td>\n",
       "      <td>136.52</td>\n",
       "      <td>132.63</td>\n",
       "      <td>135.55</td>\n",
       "      <td>5323600</td>\n",
       "      <td>135.55</td>\n",
       "    </tr>\n",
       "    <tr>\n",
       "      <th>779</th>\n",
       "      <td>8/2/2013</td>\n",
       "      <td>134.59</td>\n",
       "      <td>138.25</td>\n",
       "      <td>133.61</td>\n",
       "      <td>138.00</td>\n",
       "      <td>6269900</td>\n",
       "      <td>138.00</td>\n",
       "    </tr>\n",
       "    <tr>\n",
       "      <th>...</th>\n",
       "      <td>...</td>\n",
       "      <td>...</td>\n",
       "      <td>...</td>\n",
       "      <td>...</td>\n",
       "      <td>...</td>\n",
       "      <td>...</td>\n",
       "      <td>...</td>\n",
       "    </tr>\n",
       "    <tr>\n",
       "      <th>1687</th>\n",
       "      <td>3/13/2017</td>\n",
       "      <td>244.82</td>\n",
       "      <td>246.85</td>\n",
       "      <td>242.78</td>\n",
       "      <td>246.17</td>\n",
       "      <td>3010700</td>\n",
       "      <td>246.17</td>\n",
       "    </tr>\n",
       "    <tr>\n",
       "      <th>1688</th>\n",
       "      <td>3/14/2017</td>\n",
       "      <td>246.11</td>\n",
       "      <td>258.12</td>\n",
       "      <td>246.02</td>\n",
       "      <td>258.00</td>\n",
       "      <td>7575500</td>\n",
       "      <td>258.00</td>\n",
       "    </tr>\n",
       "    <tr>\n",
       "      <th>1689</th>\n",
       "      <td>3/15/2017</td>\n",
       "      <td>257.00</td>\n",
       "      <td>261.00</td>\n",
       "      <td>254.27</td>\n",
       "      <td>255.73</td>\n",
       "      <td>4816600</td>\n",
       "      <td>255.73</td>\n",
       "    </tr>\n",
       "    <tr>\n",
       "      <th>1690</th>\n",
       "      <td>3/16/2017</td>\n",
       "      <td>262.40</td>\n",
       "      <td>265.75</td>\n",
       "      <td>259.06</td>\n",
       "      <td>262.05</td>\n",
       "      <td>7100400</td>\n",
       "      <td>262.05</td>\n",
       "    </tr>\n",
       "    <tr>\n",
       "      <th>1691</th>\n",
       "      <td>3/17/2017</td>\n",
       "      <td>264.00</td>\n",
       "      <td>265.33</td>\n",
       "      <td>261.20</td>\n",
       "      <td>261.50</td>\n",
       "      <td>6475900</td>\n",
       "      <td>261.50</td>\n",
       "    </tr>\n",
       "  </tbody>\n",
       "</table>\n",
       "<p>908 rows × 7 columns</p>\n",
       "</div>"
      ],
      "text/plain": [
       "           Date    Open    High     Low   Close    Volume  Adj Close\n",
       "765   7/15/2013  133.03  133.26  126.82  127.26   9922400     127.26\n",
       "776   7/30/2013  134.80  137.49  128.18  131.74  13127000     131.74\n",
       "777   7/31/2013  132.57  134.97  131.45  134.28   6351700     134.28\n",
       "778    8/1/2013  135.00  136.52  132.63  135.55   5323600     135.55\n",
       "779    8/2/2013  134.59  138.25  133.61  138.00   6269900     138.00\n",
       "...         ...     ...     ...     ...     ...       ...        ...\n",
       "1687  3/13/2017  244.82  246.85  242.78  246.17   3010700     246.17\n",
       "1688  3/14/2017  246.11  258.12  246.02  258.00   7575500     258.00\n",
       "1689  3/15/2017  257.00  261.00  254.27  255.73   4816600     255.73\n",
       "1690  3/16/2017  262.40  265.75  259.06  262.05   7100400     262.05\n",
       "1691  3/17/2017  264.00  265.33  261.20  261.50   6475900     261.50\n",
       "\n",
       "[908 rows x 7 columns]"
      ]
     },
     "execution_count": 29,
     "metadata": {},
     "output_type": "execute_result"
    }
   ],
   "source": [
    "ts[\n",
    "    ts['Open'] > 1.32e+2\n",
    "]"
   ]
  },
  {
   "cell_type": "code",
   "execution_count": 49,
   "metadata": {},
   "outputs": [
    {
     "data": {
      "text/html": [
       "<div>\n",
       "<style scoped>\n",
       "    .dataframe tbody tr th:only-of-type {\n",
       "        vertical-align: middle;\n",
       "    }\n",
       "\n",
       "    .dataframe tbody tr th {\n",
       "        vertical-align: top;\n",
       "    }\n",
       "\n",
       "    .dataframe thead th {\n",
       "        text-align: right;\n",
       "    }\n",
       "</style>\n",
       "<table border=\"1\" class=\"dataframe\">\n",
       "  <thead>\n",
       "    <tr style=\"text-align: right;\">\n",
       "      <th></th>\n",
       "      <th>Date</th>\n",
       "      <th>Open</th>\n",
       "      <th>High</th>\n",
       "      <th>Low</th>\n",
       "      <th>Close</th>\n",
       "      <th>Volume</th>\n",
       "      <th>Adj Close</th>\n",
       "    </tr>\n",
       "  </thead>\n",
       "  <tbody>\n",
       "    <tr>\n",
       "      <th>777</th>\n",
       "      <td>7/31/2013</td>\n",
       "      <td>132.57</td>\n",
       "      <td>134.97</td>\n",
       "      <td>131.45</td>\n",
       "      <td>134.28</td>\n",
       "      <td>6351700</td>\n",
       "      <td>134.28</td>\n",
       "    </tr>\n",
       "    <tr>\n",
       "      <th>778</th>\n",
       "      <td>8/1/2013</td>\n",
       "      <td>135.00</td>\n",
       "      <td>136.52</td>\n",
       "      <td>132.63</td>\n",
       "      <td>135.55</td>\n",
       "      <td>5323600</td>\n",
       "      <td>135.55</td>\n",
       "    </tr>\n",
       "    <tr>\n",
       "      <th>779</th>\n",
       "      <td>8/2/2013</td>\n",
       "      <td>134.59</td>\n",
       "      <td>138.25</td>\n",
       "      <td>133.61</td>\n",
       "      <td>138.00</td>\n",
       "      <td>6269900</td>\n",
       "      <td>138.00</td>\n",
       "    </tr>\n",
       "    <tr>\n",
       "      <th>780</th>\n",
       "      <td>8/5/2013</td>\n",
       "      <td>140.01</td>\n",
       "      <td>144.89</td>\n",
       "      <td>139.65</td>\n",
       "      <td>144.68</td>\n",
       "      <td>10200700</td>\n",
       "      <td>144.68</td>\n",
       "    </tr>\n",
       "    <tr>\n",
       "      <th>781</th>\n",
       "      <td>8/6/2013</td>\n",
       "      <td>144.75</td>\n",
       "      <td>145.73</td>\n",
       "      <td>141.10</td>\n",
       "      <td>142.15</td>\n",
       "      <td>9254500</td>\n",
       "      <td>142.15</td>\n",
       "    </tr>\n",
       "    <tr>\n",
       "      <th>...</th>\n",
       "      <td>...</td>\n",
       "      <td>...</td>\n",
       "      <td>...</td>\n",
       "      <td>...</td>\n",
       "      <td>...</td>\n",
       "      <td>...</td>\n",
       "      <td>...</td>\n",
       "    </tr>\n",
       "    <tr>\n",
       "      <th>1679</th>\n",
       "      <td>3/1/2017</td>\n",
       "      <td>254.18</td>\n",
       "      <td>254.85</td>\n",
       "      <td>249.11</td>\n",
       "      <td>250.02</td>\n",
       "      <td>4800300</td>\n",
       "      <td>250.02</td>\n",
       "    </tr>\n",
       "    <tr>\n",
       "      <th>1688</th>\n",
       "      <td>3/14/2017</td>\n",
       "      <td>246.11</td>\n",
       "      <td>258.12</td>\n",
       "      <td>246.02</td>\n",
       "      <td>258.00</td>\n",
       "      <td>7575500</td>\n",
       "      <td>258.00</td>\n",
       "    </tr>\n",
       "    <tr>\n",
       "      <th>1689</th>\n",
       "      <td>3/15/2017</td>\n",
       "      <td>257.00</td>\n",
       "      <td>261.00</td>\n",
       "      <td>254.27</td>\n",
       "      <td>255.73</td>\n",
       "      <td>4816600</td>\n",
       "      <td>255.73</td>\n",
       "    </tr>\n",
       "    <tr>\n",
       "      <th>1690</th>\n",
       "      <td>3/16/2017</td>\n",
       "      <td>262.40</td>\n",
       "      <td>265.75</td>\n",
       "      <td>259.06</td>\n",
       "      <td>262.05</td>\n",
       "      <td>7100400</td>\n",
       "      <td>262.05</td>\n",
       "    </tr>\n",
       "    <tr>\n",
       "      <th>1691</th>\n",
       "      <td>3/17/2017</td>\n",
       "      <td>264.00</td>\n",
       "      <td>265.33</td>\n",
       "      <td>261.20</td>\n",
       "      <td>261.50</td>\n",
       "      <td>6475900</td>\n",
       "      <td>261.50</td>\n",
       "    </tr>\n",
       "  </tbody>\n",
       "</table>\n",
       "<p>528 rows × 7 columns</p>\n",
       "</div>"
      ],
      "text/plain": [
       "           Date    Open    High     Low   Close    Volume  Adj Close\n",
       "777   7/31/2013  132.57  134.97  131.45  134.28   6351700     134.28\n",
       "778    8/1/2013  135.00  136.52  132.63  135.55   5323600     135.55\n",
       "779    8/2/2013  134.59  138.25  133.61  138.00   6269900     138.00\n",
       "780    8/5/2013  140.01  144.89  139.65  144.68  10200700     144.68\n",
       "781    8/6/2013  144.75  145.73  141.10  142.15   9254500     142.15\n",
       "...         ...     ...     ...     ...     ...       ...        ...\n",
       "1679   3/1/2017  254.18  254.85  249.11  250.02   4800300     250.02\n",
       "1688  3/14/2017  246.11  258.12  246.02  258.00   7575500     258.00\n",
       "1689  3/15/2017  257.00  261.00  254.27  255.73   4816600     255.73\n",
       "1690  3/16/2017  262.40  265.75  259.06  262.05   7100400     262.05\n",
       "1691  3/17/2017  264.00  265.33  261.20  261.50   6475900     261.50\n",
       "\n",
       "[528 rows x 7 columns]"
      ]
     },
     "execution_count": 49,
     "metadata": {},
     "output_type": "execute_result"
    }
   ],
   "source": [
    "ts[\n",
    "    (ts['Open'] > 1.32e+2) &\n",
    "    (ts['Volume'] > 4.27e+6) &\n",
    "    (ts['Close'] > 1.32e+2)\n",
    "]"
   ]
  },
  {
   "cell_type": "code",
   "execution_count": 52,
   "metadata": {},
   "outputs": [
    {
     "data": {
      "text/html": [
       "<div>\n",
       "<style scoped>\n",
       "    .dataframe tbody tr th:only-of-type {\n",
       "        vertical-align: middle;\n",
       "    }\n",
       "\n",
       "    .dataframe tbody tr th {\n",
       "        vertical-align: top;\n",
       "    }\n",
       "\n",
       "    .dataframe thead th {\n",
       "        text-align: right;\n",
       "    }\n",
       "</style>\n",
       "<table border=\"1\" class=\"dataframe\">\n",
       "  <thead>\n",
       "    <tr style=\"text-align: right;\">\n",
       "      <th></th>\n",
       "      <th>Date</th>\n",
       "      <th>Open</th>\n",
       "      <th>High</th>\n",
       "      <th>Low</th>\n",
       "      <th>Close</th>\n",
       "      <th>Volume</th>\n",
       "      <th>Adj Close</th>\n",
       "    </tr>\n",
       "  </thead>\n",
       "  <tbody>\n",
       "    <tr>\n",
       "      <th>777</th>\n",
       "      <td>7/31/2013</td>\n",
       "      <td>132.57</td>\n",
       "      <td>134.97</td>\n",
       "      <td>131.45</td>\n",
       "      <td>134.28</td>\n",
       "      <td>6351700</td>\n",
       "      <td>134.28</td>\n",
       "    </tr>\n",
       "    <tr>\n",
       "      <th>778</th>\n",
       "      <td>8/1/2013</td>\n",
       "      <td>135.00</td>\n",
       "      <td>136.52</td>\n",
       "      <td>132.63</td>\n",
       "      <td>135.55</td>\n",
       "      <td>5323600</td>\n",
       "      <td>135.55</td>\n",
       "    </tr>\n",
       "    <tr>\n",
       "      <th>779</th>\n",
       "      <td>8/2/2013</td>\n",
       "      <td>134.59</td>\n",
       "      <td>138.25</td>\n",
       "      <td>133.61</td>\n",
       "      <td>138.00</td>\n",
       "      <td>6269900</td>\n",
       "      <td>138.00</td>\n",
       "    </tr>\n",
       "    <tr>\n",
       "      <th>780</th>\n",
       "      <td>8/5/2013</td>\n",
       "      <td>140.01</td>\n",
       "      <td>144.89</td>\n",
       "      <td>139.65</td>\n",
       "      <td>144.68</td>\n",
       "      <td>10200700</td>\n",
       "      <td>144.68</td>\n",
       "    </tr>\n",
       "    <tr>\n",
       "      <th>781</th>\n",
       "      <td>8/6/2013</td>\n",
       "      <td>144.75</td>\n",
       "      <td>145.73</td>\n",
       "      <td>141.10</td>\n",
       "      <td>142.15</td>\n",
       "      <td>9254500</td>\n",
       "      <td>142.15</td>\n",
       "    </tr>\n",
       "    <tr>\n",
       "      <th>...</th>\n",
       "      <td>...</td>\n",
       "      <td>...</td>\n",
       "      <td>...</td>\n",
       "      <td>...</td>\n",
       "      <td>...</td>\n",
       "      <td>...</td>\n",
       "      <td>...</td>\n",
       "    </tr>\n",
       "    <tr>\n",
       "      <th>1679</th>\n",
       "      <td>3/1/2017</td>\n",
       "      <td>254.18</td>\n",
       "      <td>254.85</td>\n",
       "      <td>249.11</td>\n",
       "      <td>250.02</td>\n",
       "      <td>4800300</td>\n",
       "      <td>250.02</td>\n",
       "    </tr>\n",
       "    <tr>\n",
       "      <th>1688</th>\n",
       "      <td>3/14/2017</td>\n",
       "      <td>246.11</td>\n",
       "      <td>258.12</td>\n",
       "      <td>246.02</td>\n",
       "      <td>258.00</td>\n",
       "      <td>7575500</td>\n",
       "      <td>258.00</td>\n",
       "    </tr>\n",
       "    <tr>\n",
       "      <th>1689</th>\n",
       "      <td>3/15/2017</td>\n",
       "      <td>257.00</td>\n",
       "      <td>261.00</td>\n",
       "      <td>254.27</td>\n",
       "      <td>255.73</td>\n",
       "      <td>4816600</td>\n",
       "      <td>255.73</td>\n",
       "    </tr>\n",
       "    <tr>\n",
       "      <th>1690</th>\n",
       "      <td>3/16/2017</td>\n",
       "      <td>262.40</td>\n",
       "      <td>265.75</td>\n",
       "      <td>259.06</td>\n",
       "      <td>262.05</td>\n",
       "      <td>7100400</td>\n",
       "      <td>262.05</td>\n",
       "    </tr>\n",
       "    <tr>\n",
       "      <th>1691</th>\n",
       "      <td>3/17/2017</td>\n",
       "      <td>264.00</td>\n",
       "      <td>265.33</td>\n",
       "      <td>261.20</td>\n",
       "      <td>261.50</td>\n",
       "      <td>6475900</td>\n",
       "      <td>261.50</td>\n",
       "    </tr>\n",
       "  </tbody>\n",
       "</table>\n",
       "<p>528 rows × 7 columns</p>\n",
       "</div>"
      ],
      "text/plain": [
       "           Date    Open    High     Low   Close    Volume  Adj Close\n",
       "777   7/31/2013  132.57  134.97  131.45  134.28   6351700     134.28\n",
       "778    8/1/2013  135.00  136.52  132.63  135.55   5323600     135.55\n",
       "779    8/2/2013  134.59  138.25  133.61  138.00   6269900     138.00\n",
       "780    8/5/2013  140.01  144.89  139.65  144.68  10200700     144.68\n",
       "781    8/6/2013  144.75  145.73  141.10  142.15   9254500     142.15\n",
       "...         ...     ...     ...     ...     ...       ...        ...\n",
       "1679   3/1/2017  254.18  254.85  249.11  250.02   4800300     250.02\n",
       "1688  3/14/2017  246.11  258.12  246.02  258.00   7575500     258.00\n",
       "1689  3/15/2017  257.00  261.00  254.27  255.73   4816600     255.73\n",
       "1690  3/16/2017  262.40  265.75  259.06  262.05   7100400     262.05\n",
       "1691  3/17/2017  264.00  265.33  261.20  261.50   6475900     261.50\n",
       "\n",
       "[528 rows x 7 columns]"
      ]
     },
     "execution_count": 52,
     "metadata": {},
     "output_type": "execute_result"
    }
   ],
   "source": [
    "ts.query(\"Open > 1.32e+2 & Volume > 4.27e+6 & Close > 1.32e+2\")"
   ]
  },
  {
   "cell_type": "markdown",
   "metadata": {},
   "source": [
    "### Pandas Data Structure"
   ]
  },
  {
   "cell_type": "code",
   "execution_count": 23,
   "metadata": {},
   "outputs": [
    {
     "data": {
      "text/plain": [
       "RangeIndex(start=0, stop=1692, step=1)"
      ]
     },
     "execution_count": 23,
     "metadata": {},
     "output_type": "execute_result"
    }
   ],
   "source": [
    "ts.index"
   ]
  },
  {
   "cell_type": "code",
   "execution_count": 24,
   "metadata": {},
   "outputs": [
    {
     "data": {
      "text/plain": [
       "[RangeIndex(start=0, stop=1692, step=1),\n",
       " Index(['Date', 'Open', 'High', 'Low', 'Close', 'Volume', 'Adj Close'], dtype='object')]"
      ]
     },
     "execution_count": 24,
     "metadata": {},
     "output_type": "execute_result"
    }
   ],
   "source": [
    "ts.axes"
   ]
  },
  {
   "cell_type": "markdown",
   "metadata": {},
   "source": [
    "checking the existence of a column:"
   ]
  },
  {
   "cell_type": "code",
   "execution_count": 33,
   "metadata": {},
   "outputs": [
    {
     "data": {
      "text/plain": [
       "True"
      ]
     },
     "execution_count": 33,
     "metadata": {},
     "output_type": "execute_result"
    }
   ],
   "source": [
    "\"Open\" in ts.keys()"
   ]
  },
  {
   "cell_type": "markdown",
   "metadata": {},
   "source": [
    "**Alert**\n",
    "This is case-sensitive"
   ]
  },
  {
   "cell_type": "code",
   "execution_count": 34,
   "metadata": {},
   "outputs": [
    {
     "data": {
      "text/plain": [
       "False"
      ]
     },
     "execution_count": 34,
     "metadata": {},
     "output_type": "execute_result"
    }
   ],
   "source": [
    "\"open\" in ts.keys()"
   ]
  },
  {
   "cell_type": "markdown",
   "metadata": {},
   "source": [
    "### Accessing DataFrame Elements"
   ]
  },
  {
   "cell_type": "markdown",
   "metadata": {},
   "source": [
    "this is to acccess the second-to-last row data:"
   ]
  },
  {
   "cell_type": "code",
   "execution_count": 35,
   "metadata": {},
   "outputs": [
    {
     "data": {
      "text/plain": [
       "Date         3/16/2017\n",
       "Open             262.4\n",
       "High            265.75\n",
       "Low             259.06\n",
       "Close           262.05\n",
       "Volume         7100400\n",
       "Adj Close       262.05\n",
       "Name: 1690, dtype: object"
      ]
     },
     "execution_count": 35,
     "metadata": {},
     "output_type": "execute_result"
    }
   ],
   "source": [
    "ts.iloc[-2]"
   ]
  },
  {
   "cell_type": "markdown",
   "metadata": {},
   "source": [
    "to select all datas between the labels 1000 and 1999:"
   ]
  },
  {
   "cell_type": "code",
   "execution_count": 40,
   "metadata": {},
   "outputs": [
    {
     "data": {
      "text/html": [
       "<div>\n",
       "<style scoped>\n",
       "    .dataframe tbody tr th:only-of-type {\n",
       "        vertical-align: middle;\n",
       "    }\n",
       "\n",
       "    .dataframe tbody tr th {\n",
       "        vertical-align: top;\n",
       "    }\n",
       "\n",
       "    .dataframe thead th {\n",
       "        text-align: right;\n",
       "    }\n",
       "</style>\n",
       "<table border=\"1\" class=\"dataframe\">\n",
       "  <thead>\n",
       "    <tr style=\"text-align: right;\">\n",
       "      <th></th>\n",
       "      <th>Open</th>\n",
       "      <th>Close</th>\n",
       "      <th>Volume</th>\n",
       "    </tr>\n",
       "  </thead>\n",
       "  <tbody>\n",
       "    <tr>\n",
       "      <th>995</th>\n",
       "      <td>205.10</td>\n",
       "      <td>203.52</td>\n",
       "      <td>5993700</td>\n",
       "    </tr>\n",
       "    <tr>\n",
       "      <th>996</th>\n",
       "      <td>204.78</td>\n",
       "      <td>206.42</td>\n",
       "      <td>3544300</td>\n",
       "    </tr>\n",
       "    <tr>\n",
       "      <th>997</th>\n",
       "      <td>206.76</td>\n",
       "      <td>224.61</td>\n",
       "      <td>13246400</td>\n",
       "    </tr>\n",
       "    <tr>\n",
       "      <th>998</th>\n",
       "      <td>224.11</td>\n",
       "      <td>231.67</td>\n",
       "      <td>13304900</td>\n",
       "    </tr>\n",
       "    <tr>\n",
       "      <th>999</th>\n",
       "      <td>231.50</td>\n",
       "      <td>227.12</td>\n",
       "      <td>6940200</td>\n",
       "    </tr>\n",
       "  </tbody>\n",
       "</table>\n",
       "</div>"
      ],
      "text/plain": [
       "       Open   Close    Volume\n",
       "995  205.10  203.52   5993700\n",
       "996  204.78  206.42   3544300\n",
       "997  206.76  224.61  13246400\n",
       "998  224.11  231.67  13304900\n",
       "999  231.50  227.12   6940200"
      ]
     },
     "execution_count": 40,
     "metadata": {},
     "output_type": "execute_result"
    }
   ],
   "source": [
    "ts.loc[995:999, [\"Open\", \"Close\", \"Volume\"]]"
   ]
  },
  {
   "cell_type": "markdown",
   "metadata": {},
   "source": [
    "### Grouping and Aggregating Data"
   ]
  },
  {
   "cell_type": "code",
   "execution_count": 53,
   "metadata": {},
   "outputs": [
    {
     "data": {
      "text/plain": [
       "Open\n",
       "19.00     18766300\n",
       "25.79     17187100\n",
       "25.00     10231800\n",
       "23.00      5139800\n",
       "20.00      6866900\n",
       "            ...   \n",
       "251.92     3449200\n",
       "247.63     3861500\n",
       "246.21     3057000\n",
       "246.11     7575500\n",
       "257.00     4816600\n",
       "Name: Volume, Length: 1464, dtype: int64"
      ]
     },
     "execution_count": 53,
     "metadata": {},
     "output_type": "execute_result"
    }
   ],
   "source": [
    "ts.groupby(\"Open\", sort=False)[\"Volume\"].sum()"
   ]
  },
  {
   "cell_type": "markdown",
   "metadata": {},
   "source": [
    "### Manipulating Columns"
   ]
  },
  {
   "cell_type": "code",
   "execution_count": 54,
   "metadata": {},
   "outputs": [
    {
     "data": {
      "text/html": [
       "<div>\n",
       "<style scoped>\n",
       "    .dataframe tbody tr th:only-of-type {\n",
       "        vertical-align: middle;\n",
       "    }\n",
       "\n",
       "    .dataframe tbody tr th {\n",
       "        vertical-align: top;\n",
       "    }\n",
       "\n",
       "    .dataframe thead th {\n",
       "        text-align: right;\n",
       "    }\n",
       "</style>\n",
       "<table border=\"1\" class=\"dataframe\">\n",
       "  <thead>\n",
       "    <tr style=\"text-align: right;\">\n",
       "      <th></th>\n",
       "      <th>Date</th>\n",
       "      <th>Open</th>\n",
       "      <th>High</th>\n",
       "      <th>Low</th>\n",
       "      <th>Close</th>\n",
       "      <th>Volume</th>\n",
       "      <th>Adj Close</th>\n",
       "    </tr>\n",
       "  </thead>\n",
       "  <tbody>\n",
       "    <tr>\n",
       "      <th>0</th>\n",
       "      <td>6/29/2010</td>\n",
       "      <td>19.00</td>\n",
       "      <td>25.00</td>\n",
       "      <td>17.54</td>\n",
       "      <td>23.89</td>\n",
       "      <td>18766300</td>\n",
       "      <td>23.89</td>\n",
       "    </tr>\n",
       "    <tr>\n",
       "      <th>1</th>\n",
       "      <td>6/30/2010</td>\n",
       "      <td>25.79</td>\n",
       "      <td>30.42</td>\n",
       "      <td>23.30</td>\n",
       "      <td>23.83</td>\n",
       "      <td>17187100</td>\n",
       "      <td>23.83</td>\n",
       "    </tr>\n",
       "    <tr>\n",
       "      <th>2</th>\n",
       "      <td>7/1/2010</td>\n",
       "      <td>25.00</td>\n",
       "      <td>25.92</td>\n",
       "      <td>20.27</td>\n",
       "      <td>21.96</td>\n",
       "      <td>8218800</td>\n",
       "      <td>21.96</td>\n",
       "    </tr>\n",
       "    <tr>\n",
       "      <th>3</th>\n",
       "      <td>7/2/2010</td>\n",
       "      <td>23.00</td>\n",
       "      <td>23.10</td>\n",
       "      <td>18.71</td>\n",
       "      <td>19.20</td>\n",
       "      <td>5139800</td>\n",
       "      <td>19.20</td>\n",
       "    </tr>\n",
       "    <tr>\n",
       "      <th>4</th>\n",
       "      <td>7/6/2010</td>\n",
       "      <td>20.00</td>\n",
       "      <td>20.00</td>\n",
       "      <td>15.83</td>\n",
       "      <td>16.11</td>\n",
       "      <td>6866900</td>\n",
       "      <td>16.11</td>\n",
       "    </tr>\n",
       "    <tr>\n",
       "      <th>...</th>\n",
       "      <td>...</td>\n",
       "      <td>...</td>\n",
       "      <td>...</td>\n",
       "      <td>...</td>\n",
       "      <td>...</td>\n",
       "      <td>...</td>\n",
       "      <td>...</td>\n",
       "    </tr>\n",
       "    <tr>\n",
       "      <th>1687</th>\n",
       "      <td>3/13/2017</td>\n",
       "      <td>244.82</td>\n",
       "      <td>246.85</td>\n",
       "      <td>242.78</td>\n",
       "      <td>246.17</td>\n",
       "      <td>3010700</td>\n",
       "      <td>246.17</td>\n",
       "    </tr>\n",
       "    <tr>\n",
       "      <th>1688</th>\n",
       "      <td>3/14/2017</td>\n",
       "      <td>246.11</td>\n",
       "      <td>258.12</td>\n",
       "      <td>246.02</td>\n",
       "      <td>258.00</td>\n",
       "      <td>7575500</td>\n",
       "      <td>258.00</td>\n",
       "    </tr>\n",
       "    <tr>\n",
       "      <th>1689</th>\n",
       "      <td>3/15/2017</td>\n",
       "      <td>257.00</td>\n",
       "      <td>261.00</td>\n",
       "      <td>254.27</td>\n",
       "      <td>255.73</td>\n",
       "      <td>4816600</td>\n",
       "      <td>255.73</td>\n",
       "    </tr>\n",
       "    <tr>\n",
       "      <th>1690</th>\n",
       "      <td>3/16/2017</td>\n",
       "      <td>262.40</td>\n",
       "      <td>265.75</td>\n",
       "      <td>259.06</td>\n",
       "      <td>262.05</td>\n",
       "      <td>7100400</td>\n",
       "      <td>262.05</td>\n",
       "    </tr>\n",
       "    <tr>\n",
       "      <th>1691</th>\n",
       "      <td>3/17/2017</td>\n",
       "      <td>264.00</td>\n",
       "      <td>265.33</td>\n",
       "      <td>261.20</td>\n",
       "      <td>261.50</td>\n",
       "      <td>6475900</td>\n",
       "      <td>261.50</td>\n",
       "    </tr>\n",
       "  </tbody>\n",
       "</table>\n",
       "<p>1692 rows × 7 columns</p>\n",
       "</div>"
      ],
      "text/plain": [
       "           Date    Open    High     Low   Close    Volume  Adj Close\n",
       "0     6/29/2010   19.00   25.00   17.54   23.89  18766300      23.89\n",
       "1     6/30/2010   25.79   30.42   23.30   23.83  17187100      23.83\n",
       "2      7/1/2010   25.00   25.92   20.27   21.96   8218800      21.96\n",
       "3      7/2/2010   23.00   23.10   18.71   19.20   5139800      19.20\n",
       "4      7/6/2010   20.00   20.00   15.83   16.11   6866900      16.11\n",
       "...         ...     ...     ...     ...     ...       ...        ...\n",
       "1687  3/13/2017  244.82  246.85  242.78  246.17   3010700     246.17\n",
       "1688  3/14/2017  246.11  258.12  246.02  258.00   7575500     258.00\n",
       "1689  3/15/2017  257.00  261.00  254.27  255.73   4816600     255.73\n",
       "1690  3/16/2017  262.40  265.75  259.06  262.05   7100400     262.05\n",
       "1691  3/17/2017  264.00  265.33  261.20  261.50   6475900     261.50\n",
       "\n",
       "[1692 rows x 7 columns]"
      ]
     },
     "execution_count": 54,
     "metadata": {},
     "output_type": "execute_result"
    }
   ],
   "source": [
    "ts"
   ]
  },
  {
   "cell_type": "code",
   "execution_count": 55,
   "metadata": {},
   "outputs": [],
   "source": [
    "tesla = ts.copy()"
   ]
  },
  {
   "cell_type": "code",
   "execution_count": 56,
   "metadata": {},
   "outputs": [
    {
     "data": {
      "text/plain": [
       "(1692, 7)"
      ]
     },
     "execution_count": 56,
     "metadata": {},
     "output_type": "execute_result"
    }
   ],
   "source": [
    "tesla.shape"
   ]
  },
  {
   "cell_type": "markdown",
   "metadata": {},
   "source": [
    "defining new columns based on existing ones:"
   ]
  },
  {
   "cell_type": "code",
   "execution_count": 57,
   "metadata": {},
   "outputs": [],
   "source": [
    "tesla[\"Difference\"] = ts.Open - ts.Close"
   ]
  },
  {
   "cell_type": "code",
   "execution_count": 61,
   "metadata": {},
   "outputs": [
    {
     "data": {
      "text/html": [
       "<div>\n",
       "<style scoped>\n",
       "    .dataframe tbody tr th:only-of-type {\n",
       "        vertical-align: middle;\n",
       "    }\n",
       "\n",
       "    .dataframe tbody tr th {\n",
       "        vertical-align: top;\n",
       "    }\n",
       "\n",
       "    .dataframe thead th {\n",
       "        text-align: right;\n",
       "    }\n",
       "</style>\n",
       "<table border=\"1\" class=\"dataframe\">\n",
       "  <thead>\n",
       "    <tr style=\"text-align: right;\">\n",
       "      <th></th>\n",
       "      <th>Date</th>\n",
       "      <th>Open</th>\n",
       "      <th>High</th>\n",
       "      <th>Low</th>\n",
       "      <th>Close</th>\n",
       "      <th>Volume</th>\n",
       "      <th>Adj Close</th>\n",
       "      <th>Difference</th>\n",
       "    </tr>\n",
       "  </thead>\n",
       "  <tbody>\n",
       "    <tr>\n",
       "      <th>0</th>\n",
       "      <td>6/29/2010</td>\n",
       "      <td>19.00</td>\n",
       "      <td>25.00</td>\n",
       "      <td>17.54</td>\n",
       "      <td>23.89</td>\n",
       "      <td>18766300</td>\n",
       "      <td>23.89</td>\n",
       "      <td>-4.89</td>\n",
       "    </tr>\n",
       "    <tr>\n",
       "      <th>1</th>\n",
       "      <td>6/30/2010</td>\n",
       "      <td>25.79</td>\n",
       "      <td>30.42</td>\n",
       "      <td>23.30</td>\n",
       "      <td>23.83</td>\n",
       "      <td>17187100</td>\n",
       "      <td>23.83</td>\n",
       "      <td>1.96</td>\n",
       "    </tr>\n",
       "    <tr>\n",
       "      <th>2</th>\n",
       "      <td>7/1/2010</td>\n",
       "      <td>25.00</td>\n",
       "      <td>25.92</td>\n",
       "      <td>20.27</td>\n",
       "      <td>21.96</td>\n",
       "      <td>8218800</td>\n",
       "      <td>21.96</td>\n",
       "      <td>3.04</td>\n",
       "    </tr>\n",
       "  </tbody>\n",
       "</table>\n",
       "</div>"
      ],
      "text/plain": [
       "        Date   Open   High    Low  Close    Volume  Adj Close  Difference\n",
       "0  6/29/2010  19.00  25.00  17.54  23.89  18766300      23.89       -4.89\n",
       "1  6/30/2010  25.79  30.42  23.30  23.83  17187100      23.83        1.96\n",
       "2   7/1/2010  25.00  25.92  20.27  21.96   8218800      21.96        3.04"
      ]
     },
     "execution_count": 61,
     "metadata": {},
     "output_type": "execute_result"
    }
   ],
   "source": [
    "tesla.head(3)"
   ]
  },
  {
   "cell_type": "code",
   "execution_count": 62,
   "metadata": {},
   "outputs": [
    {
     "data": {
      "text/plain": [
       "(1692, 8)"
      ]
     },
     "execution_count": 62,
     "metadata": {},
     "output_type": "execute_result"
    }
   ],
   "source": [
    "tesla.shape"
   ]
  },
  {
   "cell_type": "code",
   "execution_count": 63,
   "metadata": {},
   "outputs": [
    {
     "data": {
      "text/plain": [
       "20.509994000000006"
      ]
     },
     "execution_count": 63,
     "metadata": {},
     "output_type": "execute_result"
    }
   ],
   "source": [
    "tesla[\"Difference\"].max()"
   ]
  },
  {
   "cell_type": "code",
   "execution_count": 64,
   "metadata": {},
   "outputs": [],
   "source": [
    "pd.set_option(\"display.precision\",2)"
   ]
  },
  {
   "cell_type": "code",
   "execution_count": 66,
   "metadata": {},
   "outputs": [
    {
     "data": {
      "text/html": [
       "<div>\n",
       "<style scoped>\n",
       "    .dataframe tbody tr th:only-of-type {\n",
       "        vertical-align: middle;\n",
       "    }\n",
       "\n",
       "    .dataframe tbody tr th {\n",
       "        vertical-align: top;\n",
       "    }\n",
       "\n",
       "    .dataframe thead th {\n",
       "        text-align: right;\n",
       "    }\n",
       "</style>\n",
       "<table border=\"1\" class=\"dataframe\">\n",
       "  <thead>\n",
       "    <tr style=\"text-align: right;\">\n",
       "      <th></th>\n",
       "      <th>Date</th>\n",
       "      <th>Open</th>\n",
       "      <th>High</th>\n",
       "      <th>Low</th>\n",
       "      <th>Close</th>\n",
       "      <th>Volume</th>\n",
       "      <th>Adj Close</th>\n",
       "      <th>Difference</th>\n",
       "    </tr>\n",
       "  </thead>\n",
       "  <tbody>\n",
       "    <tr>\n",
       "      <th>0</th>\n",
       "      <td>6/29/2010</td>\n",
       "      <td>19.00</td>\n",
       "      <td>25.00</td>\n",
       "      <td>17.54</td>\n",
       "      <td>23.89</td>\n",
       "      <td>18766300</td>\n",
       "      <td>23.89</td>\n",
       "      <td>-4.89</td>\n",
       "    </tr>\n",
       "    <tr>\n",
       "      <th>1</th>\n",
       "      <td>6/30/2010</td>\n",
       "      <td>25.79</td>\n",
       "      <td>30.42</td>\n",
       "      <td>23.30</td>\n",
       "      <td>23.83</td>\n",
       "      <td>17187100</td>\n",
       "      <td>23.83</td>\n",
       "      <td>1.96</td>\n",
       "    </tr>\n",
       "    <tr>\n",
       "      <th>2</th>\n",
       "      <td>7/1/2010</td>\n",
       "      <td>25.00</td>\n",
       "      <td>25.92</td>\n",
       "      <td>20.27</td>\n",
       "      <td>21.96</td>\n",
       "      <td>8218800</td>\n",
       "      <td>21.96</td>\n",
       "      <td>3.04</td>\n",
       "    </tr>\n",
       "    <tr>\n",
       "      <th>3</th>\n",
       "      <td>7/2/2010</td>\n",
       "      <td>23.00</td>\n",
       "      <td>23.10</td>\n",
       "      <td>18.71</td>\n",
       "      <td>19.20</td>\n",
       "      <td>5139800</td>\n",
       "      <td>19.20</td>\n",
       "      <td>3.80</td>\n",
       "    </tr>\n",
       "    <tr>\n",
       "      <th>4</th>\n",
       "      <td>7/6/2010</td>\n",
       "      <td>20.00</td>\n",
       "      <td>20.00</td>\n",
       "      <td>15.83</td>\n",
       "      <td>16.11</td>\n",
       "      <td>6866900</td>\n",
       "      <td>16.11</td>\n",
       "      <td>3.89</td>\n",
       "    </tr>\n",
       "    <tr>\n",
       "      <th>...</th>\n",
       "      <td>...</td>\n",
       "      <td>...</td>\n",
       "      <td>...</td>\n",
       "      <td>...</td>\n",
       "      <td>...</td>\n",
       "      <td>...</td>\n",
       "      <td>...</td>\n",
       "      <td>...</td>\n",
       "    </tr>\n",
       "    <tr>\n",
       "      <th>1687</th>\n",
       "      <td>3/13/2017</td>\n",
       "      <td>244.82</td>\n",
       "      <td>246.85</td>\n",
       "      <td>242.78</td>\n",
       "      <td>246.17</td>\n",
       "      <td>3010700</td>\n",
       "      <td>246.17</td>\n",
       "      <td>-1.35</td>\n",
       "    </tr>\n",
       "    <tr>\n",
       "      <th>1688</th>\n",
       "      <td>3/14/2017</td>\n",
       "      <td>246.11</td>\n",
       "      <td>258.12</td>\n",
       "      <td>246.02</td>\n",
       "      <td>258.00</td>\n",
       "      <td>7575500</td>\n",
       "      <td>258.00</td>\n",
       "      <td>-11.89</td>\n",
       "    </tr>\n",
       "    <tr>\n",
       "      <th>1689</th>\n",
       "      <td>3/15/2017</td>\n",
       "      <td>257.00</td>\n",
       "      <td>261.00</td>\n",
       "      <td>254.27</td>\n",
       "      <td>255.73</td>\n",
       "      <td>4816600</td>\n",
       "      <td>255.73</td>\n",
       "      <td>1.27</td>\n",
       "    </tr>\n",
       "    <tr>\n",
       "      <th>1690</th>\n",
       "      <td>3/16/2017</td>\n",
       "      <td>262.40</td>\n",
       "      <td>265.75</td>\n",
       "      <td>259.06</td>\n",
       "      <td>262.05</td>\n",
       "      <td>7100400</td>\n",
       "      <td>262.05</td>\n",
       "      <td>0.35</td>\n",
       "    </tr>\n",
       "    <tr>\n",
       "      <th>1691</th>\n",
       "      <td>3/17/2017</td>\n",
       "      <td>264.00</td>\n",
       "      <td>265.33</td>\n",
       "      <td>261.20</td>\n",
       "      <td>261.50</td>\n",
       "      <td>6475900</td>\n",
       "      <td>261.50</td>\n",
       "      <td>2.50</td>\n",
       "    </tr>\n",
       "  </tbody>\n",
       "</table>\n",
       "<p>1692 rows × 8 columns</p>\n",
       "</div>"
      ],
      "text/plain": [
       "           Date    Open    High     Low   Close    Volume  Adj Close  \\\n",
       "0     6/29/2010   19.00   25.00   17.54   23.89  18766300      23.89   \n",
       "1     6/30/2010   25.79   30.42   23.30   23.83  17187100      23.83   \n",
       "2      7/1/2010   25.00   25.92   20.27   21.96   8218800      21.96   \n",
       "3      7/2/2010   23.00   23.10   18.71   19.20   5139800      19.20   \n",
       "4      7/6/2010   20.00   20.00   15.83   16.11   6866900      16.11   \n",
       "...         ...     ...     ...     ...     ...       ...        ...   \n",
       "1687  3/13/2017  244.82  246.85  242.78  246.17   3010700     246.17   \n",
       "1688  3/14/2017  246.11  258.12  246.02  258.00   7575500     258.00   \n",
       "1689  3/15/2017  257.00  261.00  254.27  255.73   4816600     255.73   \n",
       "1690  3/16/2017  262.40  265.75  259.06  262.05   7100400     262.05   \n",
       "1691  3/17/2017  264.00  265.33  261.20  261.50   6475900     261.50   \n",
       "\n",
       "      Difference  \n",
       "0          -4.89  \n",
       "1           1.96  \n",
       "2           3.04  \n",
       "3           3.80  \n",
       "4           3.89  \n",
       "...          ...  \n",
       "1687       -1.35  \n",
       "1688      -11.89  \n",
       "1689        1.27  \n",
       "1690        0.35  \n",
       "1691        2.50  \n",
       "\n",
       "[1692 rows x 8 columns]"
      ]
     },
     "execution_count": 66,
     "metadata": {},
     "output_type": "execute_result"
    }
   ],
   "source": [
    "tesla"
   ]
  },
  {
   "cell_type": "markdown",
   "metadata": {},
   "source": [
    "Renaming Columns"
   ]
  },
  {
   "cell_type": "code",
   "execution_count": 68,
   "metadata": {},
   "outputs": [
    {
     "data": {
      "text/html": [
       "<div>\n",
       "<style scoped>\n",
       "    .dataframe tbody tr th:only-of-type {\n",
       "        vertical-align: middle;\n",
       "    }\n",
       "\n",
       "    .dataframe tbody tr th {\n",
       "        vertical-align: top;\n",
       "    }\n",
       "\n",
       "    .dataframe thead th {\n",
       "        text-align: right;\n",
       "    }\n",
       "</style>\n",
       "<table border=\"1\" class=\"dataframe\">\n",
       "  <thead>\n",
       "    <tr style=\"text-align: right;\">\n",
       "      <th></th>\n",
       "      <th>Date</th>\n",
       "      <th>Opening Price</th>\n",
       "      <th>High</th>\n",
       "      <th>Low</th>\n",
       "      <th>Closing Price</th>\n",
       "      <th>Volume</th>\n",
       "      <th>Adj Close</th>\n",
       "      <th>Difference</th>\n",
       "    </tr>\n",
       "  </thead>\n",
       "  <tbody>\n",
       "    <tr>\n",
       "      <th>0</th>\n",
       "      <td>6/29/2010</td>\n",
       "      <td>19.00</td>\n",
       "      <td>25.00</td>\n",
       "      <td>17.54</td>\n",
       "      <td>23.89</td>\n",
       "      <td>18766300</td>\n",
       "      <td>23.89</td>\n",
       "      <td>-4.89</td>\n",
       "    </tr>\n",
       "    <tr>\n",
       "      <th>1</th>\n",
       "      <td>6/30/2010</td>\n",
       "      <td>25.79</td>\n",
       "      <td>30.42</td>\n",
       "      <td>23.30</td>\n",
       "      <td>23.83</td>\n",
       "      <td>17187100</td>\n",
       "      <td>23.83</td>\n",
       "      <td>1.96</td>\n",
       "    </tr>\n",
       "    <tr>\n",
       "      <th>2</th>\n",
       "      <td>7/1/2010</td>\n",
       "      <td>25.00</td>\n",
       "      <td>25.92</td>\n",
       "      <td>20.27</td>\n",
       "      <td>21.96</td>\n",
       "      <td>8218800</td>\n",
       "      <td>21.96</td>\n",
       "      <td>3.04</td>\n",
       "    </tr>\n",
       "    <tr>\n",
       "      <th>3</th>\n",
       "      <td>7/2/2010</td>\n",
       "      <td>23.00</td>\n",
       "      <td>23.10</td>\n",
       "      <td>18.71</td>\n",
       "      <td>19.20</td>\n",
       "      <td>5139800</td>\n",
       "      <td>19.20</td>\n",
       "      <td>3.80</td>\n",
       "    </tr>\n",
       "    <tr>\n",
       "      <th>4</th>\n",
       "      <td>7/6/2010</td>\n",
       "      <td>20.00</td>\n",
       "      <td>20.00</td>\n",
       "      <td>15.83</td>\n",
       "      <td>16.11</td>\n",
       "      <td>6866900</td>\n",
       "      <td>16.11</td>\n",
       "      <td>3.89</td>\n",
       "    </tr>\n",
       "  </tbody>\n",
       "</table>\n",
       "</div>"
      ],
      "text/plain": [
       "        Date  Opening Price   High    Low  Closing Price    Volume  Adj Close  \\\n",
       "0  6/29/2010          19.00  25.00  17.54          23.89  18766300      23.89   \n",
       "1  6/30/2010          25.79  30.42  23.30          23.83  17187100      23.83   \n",
       "2   7/1/2010          25.00  25.92  20.27          21.96   8218800      21.96   \n",
       "3   7/2/2010          23.00  23.10  18.71          19.20   5139800      19.20   \n",
       "4   7/6/2010          20.00  20.00  15.83          16.11   6866900      16.11   \n",
       "\n",
       "   Difference  \n",
       "0       -4.89  \n",
       "1        1.96  \n",
       "2        3.04  \n",
       "3        3.80  \n",
       "4        3.89  "
      ]
     },
     "execution_count": 68,
     "metadata": {},
     "output_type": "execute_result"
    }
   ],
   "source": [
    "renamed_tesla = tesla.rename(\n",
    "    columns = {\"Open\" : \"Opening Price\", \"Close\" : \"Closing Price\"}\n",
    ")\n",
    "\n",
    "renamed_tesla.head()"
   ]
  },
  {
   "cell_type": "markdown",
   "metadata": {},
   "source": [
    "Deleting Columns"
   ]
  },
  {
   "cell_type": "code",
   "execution_count": 69,
   "metadata": {},
   "outputs": [
    {
     "data": {
      "text/plain": [
       "(1692, 8)"
      ]
     },
     "execution_count": 69,
     "metadata": {},
     "output_type": "execute_result"
    }
   ],
   "source": [
    "tesla.shape"
   ]
  },
  {
   "cell_type": "code",
   "execution_count": 70,
   "metadata": {},
   "outputs": [],
   "source": [
    "dizzying_columns = [\"High\", \"Low\", \"Adj Close\"]"
   ]
  },
  {
   "cell_type": "code",
   "execution_count": 71,
   "metadata": {},
   "outputs": [],
   "source": [
    "tesla.drop(dizzying_columns, inplace=True, axis=1)"
   ]
  },
  {
   "cell_type": "code",
   "execution_count": 72,
   "metadata": {},
   "outputs": [
    {
     "data": {
      "text/plain": [
       "(1692, 5)"
      ]
     },
     "execution_count": 72,
     "metadata": {},
     "output_type": "execute_result"
    }
   ],
   "source": [
    "tesla.shape"
   ]
  },
  {
   "cell_type": "code",
   "execution_count": 73,
   "metadata": {},
   "outputs": [
    {
     "data": {
      "text/html": [
       "<div>\n",
       "<style scoped>\n",
       "    .dataframe tbody tr th:only-of-type {\n",
       "        vertical-align: middle;\n",
       "    }\n",
       "\n",
       "    .dataframe tbody tr th {\n",
       "        vertical-align: top;\n",
       "    }\n",
       "\n",
       "    .dataframe thead th {\n",
       "        text-align: right;\n",
       "    }\n",
       "</style>\n",
       "<table border=\"1\" class=\"dataframe\">\n",
       "  <thead>\n",
       "    <tr style=\"text-align: right;\">\n",
       "      <th></th>\n",
       "      <th>Date</th>\n",
       "      <th>Open</th>\n",
       "      <th>Close</th>\n",
       "      <th>Volume</th>\n",
       "      <th>Difference</th>\n",
       "    </tr>\n",
       "  </thead>\n",
       "  <tbody>\n",
       "    <tr>\n",
       "      <th>0</th>\n",
       "      <td>6/29/2010</td>\n",
       "      <td>19.00</td>\n",
       "      <td>23.89</td>\n",
       "      <td>18766300</td>\n",
       "      <td>-4.89</td>\n",
       "    </tr>\n",
       "    <tr>\n",
       "      <th>1</th>\n",
       "      <td>6/30/2010</td>\n",
       "      <td>25.79</td>\n",
       "      <td>23.83</td>\n",
       "      <td>17187100</td>\n",
       "      <td>1.96</td>\n",
       "    </tr>\n",
       "    <tr>\n",
       "      <th>2</th>\n",
       "      <td>7/1/2010</td>\n",
       "      <td>25.00</td>\n",
       "      <td>21.96</td>\n",
       "      <td>8218800</td>\n",
       "      <td>3.04</td>\n",
       "    </tr>\n",
       "    <tr>\n",
       "      <th>3</th>\n",
       "      <td>7/2/2010</td>\n",
       "      <td>23.00</td>\n",
       "      <td>19.20</td>\n",
       "      <td>5139800</td>\n",
       "      <td>3.80</td>\n",
       "    </tr>\n",
       "    <tr>\n",
       "      <th>4</th>\n",
       "      <td>7/6/2010</td>\n",
       "      <td>20.00</td>\n",
       "      <td>16.11</td>\n",
       "      <td>6866900</td>\n",
       "      <td>3.89</td>\n",
       "    </tr>\n",
       "  </tbody>\n",
       "</table>\n",
       "</div>"
      ],
      "text/plain": [
       "        Date   Open  Close    Volume  Difference\n",
       "0  6/29/2010  19.00  23.89  18766300       -4.89\n",
       "1  6/30/2010  25.79  23.83  17187100        1.96\n",
       "2   7/1/2010  25.00  21.96   8218800        3.04\n",
       "3   7/2/2010  23.00  19.20   5139800        3.80\n",
       "4   7/6/2010  20.00  16.11   6866900        3.89"
      ]
     },
     "execution_count": 73,
     "metadata": {},
     "output_type": "execute_result"
    }
   ],
   "source": [
    "tesla.head()"
   ]
  },
  {
   "cell_type": "markdown",
   "metadata": {},
   "source": [
    "Specifying Data Types"
   ]
  },
  {
   "cell_type": "code",
   "execution_count": 74,
   "metadata": {},
   "outputs": [
    {
     "name": "stdout",
     "output_type": "stream",
     "text": [
      "<class 'pandas.core.frame.DataFrame'>\n",
      "RangeIndex: 1692 entries, 0 to 1691\n",
      "Data columns (total 5 columns):\n",
      " #   Column      Non-Null Count  Dtype  \n",
      "---  ------      --------------  -----  \n",
      " 0   Date        1692 non-null   object \n",
      " 1   Open        1692 non-null   float64\n",
      " 2   Close       1692 non-null   float64\n",
      " 3   Volume      1692 non-null   int64  \n",
      " 4   Difference  1692 non-null   float64\n",
      "dtypes: float64(3), int64(1), object(1)\n",
      "memory usage: 66.2+ KB\n"
     ]
    }
   ],
   "source": [
    "tesla.info()"
   ]
  },
  {
   "cell_type": "code",
   "execution_count": 76,
   "metadata": {},
   "outputs": [],
   "source": [
    "tesla[\"Date\"] = pd.to_datetime(tesla[\"Date\"])"
   ]
  },
  {
   "cell_type": "code",
   "execution_count": 77,
   "metadata": {},
   "outputs": [
    {
     "name": "stdout",
     "output_type": "stream",
     "text": [
      "<class 'pandas.core.frame.DataFrame'>\n",
      "RangeIndex: 1692 entries, 0 to 1691\n",
      "Data columns (total 5 columns):\n",
      " #   Column      Non-Null Count  Dtype         \n",
      "---  ------      --------------  -----         \n",
      " 0   Date        1692 non-null   datetime64[ns]\n",
      " 1   Open        1692 non-null   float64       \n",
      " 2   Close       1692 non-null   float64       \n",
      " 3   Volume      1692 non-null   int64         \n",
      " 4   Difference  1692 non-null   float64       \n",
      "dtypes: datetime64[ns](1), float64(3), int64(1)\n",
      "memory usage: 66.2 KB\n"
     ]
    }
   ],
   "source": [
    "tesla.info()"
   ]
  },
  {
   "cell_type": "code",
   "execution_count": 78,
   "metadata": {},
   "outputs": [
    {
     "data": {
      "text/plain": [
       "1464"
      ]
     },
     "execution_count": 78,
     "metadata": {},
     "output_type": "execute_result"
    }
   ],
   "source": [
    "tesla[\"Open\"].nunique()"
   ]
  },
  {
   "cell_type": "code",
   "execution_count": 79,
   "metadata": {},
   "outputs": [
    {
     "data": {
      "text/plain": [
       "30.00     6\n",
       "28.00     6\n",
       "28.50     5\n",
       "220.00    5\n",
       "33.50     4\n",
       "         ..\n",
       "84.81     1\n",
       "86.37     1\n",
       "88.50     1\n",
       "91.12     1\n",
       "257.00    1\n",
       "Name: Open, Length: 1464, dtype: int64"
      ]
     },
     "execution_count": 79,
     "metadata": {},
     "output_type": "execute_result"
    }
   ],
   "source": [
    "tesla[\"Open\"].value_counts()"
   ]
  },
  {
   "cell_type": "markdown",
   "metadata": {},
   "source": [
    "### Missing Datas"
   ]
  },
  {
   "cell_type": "code",
   "execution_count": 80,
   "metadata": {},
   "outputs": [
    {
     "name": "stdout",
     "output_type": "stream",
     "text": [
      "<class 'pandas.core.frame.DataFrame'>\n",
      "RangeIndex: 1692 entries, 0 to 1691\n",
      "Data columns (total 5 columns):\n",
      " #   Column      Non-Null Count  Dtype         \n",
      "---  ------      --------------  -----         \n",
      " 0   Date        1692 non-null   datetime64[ns]\n",
      " 1   Open        1692 non-null   float64       \n",
      " 2   Close       1692 non-null   float64       \n",
      " 3   Volume      1692 non-null   int64         \n",
      " 4   Difference  1692 non-null   float64       \n",
      "dtypes: datetime64[ns](1), float64(3), int64(1)\n",
      "memory usage: 66.2 KB\n"
     ]
    }
   ],
   "source": [
    "tesla.info()"
   ]
  },
  {
   "cell_type": "code",
   "execution_count": 83,
   "metadata": {},
   "outputs": [
    {
     "data": {
      "text/plain": [
       "(1692, 5)"
      ]
     },
     "execution_count": 83,
     "metadata": {},
     "output_type": "execute_result"
    }
   ],
   "source": [
    "tesla.shape"
   ]
  },
  {
   "cell_type": "markdown",
   "metadata": {},
   "source": [
    "all the non-null count are the same. the datas shouldn't have any missing values. but lets check"
   ]
  },
  {
   "cell_type": "code",
   "execution_count": 81,
   "metadata": {},
   "outputs": [],
   "source": [
    "rows_without_missing_datas = tesla.dropna()"
   ]
  },
  {
   "cell_type": "code",
   "execution_count": 82,
   "metadata": {},
   "outputs": [
    {
     "data": {
      "text/plain": [
       "(1692, 5)"
      ]
     },
     "execution_count": 82,
     "metadata": {},
     "output_type": "execute_result"
    }
   ],
   "source": [
    "rows_without_missing_datas.shape"
   ]
  },
  {
   "cell_type": "markdown",
   "metadata": {},
   "source": [
    "See? The shape of tesla (look before) and the rows without missing datas are identical. thus our previous assumption based on the infos provided is true."
   ]
  },
  {
   "cell_type": "markdown",
   "metadata": {},
   "source": [
    "How about the columns? Lets check that too"
   ]
  },
  {
   "cell_type": "code",
   "execution_count": 84,
   "metadata": {},
   "outputs": [],
   "source": [
    "datas_without_missing_columns = tesla.dropna(axis=1) \n",
    "#friendly reminder that axis 0 is rows \n",
    "#and axis 1 is columns"
   ]
  },
  {
   "cell_type": "code",
   "execution_count": 85,
   "metadata": {},
   "outputs": [
    {
     "data": {
      "text/plain": [
       "(1692, 5)"
      ]
     },
     "execution_count": 85,
     "metadata": {},
     "output_type": "execute_result"
    }
   ],
   "source": [
    "datas_without_missing_columns.shape"
   ]
  },
  {
   "cell_type": "markdown",
   "metadata": {},
   "source": [
    "No missing data confirmed."
   ]
  },
  {
   "cell_type": "markdown",
   "metadata": {},
   "source": [
    "### Invalid Values"
   ]
  },
  {
   "cell_type": "code",
   "execution_count": 87,
   "metadata": {},
   "outputs": [
    {
     "data": {
      "text/html": [
       "<div>\n",
       "<style scoped>\n",
       "    .dataframe tbody tr th:only-of-type {\n",
       "        vertical-align: middle;\n",
       "    }\n",
       "\n",
       "    .dataframe tbody tr th {\n",
       "        vertical-align: top;\n",
       "    }\n",
       "\n",
       "    .dataframe thead th {\n",
       "        text-align: right;\n",
       "    }\n",
       "</style>\n",
       "<table border=\"1\" class=\"dataframe\">\n",
       "  <thead>\n",
       "    <tr style=\"text-align: right;\">\n",
       "      <th></th>\n",
       "      <th>Open</th>\n",
       "      <th>Close</th>\n",
       "      <th>Volume</th>\n",
       "      <th>Difference</th>\n",
       "    </tr>\n",
       "  </thead>\n",
       "  <tbody>\n",
       "    <tr>\n",
       "      <th>count</th>\n",
       "      <td>1692.00</td>\n",
       "      <td>1692.00</td>\n",
       "      <td>1.69e+03</td>\n",
       "      <td>1692.00</td>\n",
       "    </tr>\n",
       "    <tr>\n",
       "      <th>mean</th>\n",
       "      <td>132.44</td>\n",
       "      <td>132.43</td>\n",
       "      <td>4.27e+06</td>\n",
       "      <td>0.01</td>\n",
       "    </tr>\n",
       "    <tr>\n",
       "      <th>std</th>\n",
       "      <td>94.31</td>\n",
       "      <td>94.31</td>\n",
       "      <td>4.30e+06</td>\n",
       "      <td>3.69</td>\n",
       "    </tr>\n",
       "    <tr>\n",
       "      <th>min</th>\n",
       "      <td>16.14</td>\n",
       "      <td>15.80</td>\n",
       "      <td>1.18e+05</td>\n",
       "      <td>-20.77</td>\n",
       "    </tr>\n",
       "    <tr>\n",
       "      <th>25%</th>\n",
       "      <td>30.00</td>\n",
       "      <td>29.88</td>\n",
       "      <td>1.19e+06</td>\n",
       "      <td>-1.07</td>\n",
       "    </tr>\n",
       "    <tr>\n",
       "      <th>50%</th>\n",
       "      <td>156.33</td>\n",
       "      <td>158.16</td>\n",
       "      <td>3.18e+06</td>\n",
       "      <td>0.05</td>\n",
       "    </tr>\n",
       "    <tr>\n",
       "      <th>75%</th>\n",
       "      <td>220.56</td>\n",
       "      <td>220.02</td>\n",
       "      <td>5.66e+06</td>\n",
       "      <td>1.25</td>\n",
       "    </tr>\n",
       "    <tr>\n",
       "      <th>max</th>\n",
       "      <td>287.67</td>\n",
       "      <td>286.04</td>\n",
       "      <td>3.72e+07</td>\n",
       "      <td>20.51</td>\n",
       "    </tr>\n",
       "  </tbody>\n",
       "</table>\n",
       "</div>"
      ],
      "text/plain": [
       "          Open    Close    Volume  Difference\n",
       "count  1692.00  1692.00  1.69e+03     1692.00\n",
       "mean    132.44   132.43  4.27e+06        0.01\n",
       "std      94.31    94.31  4.30e+06        3.69\n",
       "min      16.14    15.80  1.18e+05      -20.77\n",
       "25%      30.00    29.88  1.19e+06       -1.07\n",
       "50%     156.33   158.16  3.18e+06        0.05\n",
       "75%     220.56   220.02  5.66e+06        1.25\n",
       "max     287.67   286.04  3.72e+07       20.51"
      ]
     },
     "execution_count": 87,
     "metadata": {},
     "output_type": "execute_result"
    }
   ],
   "source": [
    "tesla.describe()"
   ]
  },
  {
   "cell_type": "code",
   "execution_count": 88,
   "metadata": {},
   "outputs": [
    {
     "data": {
      "text/html": [
       "<div>\n",
       "<style scoped>\n",
       "    .dataframe tbody tr th:only-of-type {\n",
       "        vertical-align: middle;\n",
       "    }\n",
       "\n",
       "    .dataframe tbody tr th {\n",
       "        vertical-align: top;\n",
       "    }\n",
       "\n",
       "    .dataframe thead th {\n",
       "        text-align: right;\n",
       "    }\n",
       "</style>\n",
       "<table border=\"1\" class=\"dataframe\">\n",
       "  <thead>\n",
       "    <tr style=\"text-align: right;\">\n",
       "      <th></th>\n",
       "      <th>count</th>\n",
       "      <th>mean</th>\n",
       "      <th>std</th>\n",
       "      <th>min</th>\n",
       "      <th>25%</th>\n",
       "      <th>50%</th>\n",
       "      <th>75%</th>\n",
       "      <th>max</th>\n",
       "    </tr>\n",
       "  </thead>\n",
       "  <tbody>\n",
       "    <tr>\n",
       "      <th>Open</th>\n",
       "      <td>1692.0</td>\n",
       "      <td>1.32e+02</td>\n",
       "      <td>9.43e+01</td>\n",
       "      <td>16.14</td>\n",
       "      <td>3.00e+01</td>\n",
       "      <td>1.56e+02</td>\n",
       "      <td>2.21e+02</td>\n",
       "      <td>2.88e+02</td>\n",
       "    </tr>\n",
       "    <tr>\n",
       "      <th>Close</th>\n",
       "      <td>1692.0</td>\n",
       "      <td>1.32e+02</td>\n",
       "      <td>9.43e+01</td>\n",
       "      <td>15.80</td>\n",
       "      <td>2.99e+01</td>\n",
       "      <td>1.58e+02</td>\n",
       "      <td>2.20e+02</td>\n",
       "      <td>2.86e+02</td>\n",
       "    </tr>\n",
       "    <tr>\n",
       "      <th>Volume</th>\n",
       "      <td>1692.0</td>\n",
       "      <td>4.27e+06</td>\n",
       "      <td>4.30e+06</td>\n",
       "      <td>118500.00</td>\n",
       "      <td>1.19e+06</td>\n",
       "      <td>3.18e+06</td>\n",
       "      <td>5.66e+06</td>\n",
       "      <td>3.72e+07</td>\n",
       "    </tr>\n",
       "    <tr>\n",
       "      <th>Difference</th>\n",
       "      <td>1692.0</td>\n",
       "      <td>1.29e-02</td>\n",
       "      <td>3.69e+00</td>\n",
       "      <td>-20.77</td>\n",
       "      <td>-1.07e+00</td>\n",
       "      <td>5.00e-02</td>\n",
       "      <td>1.25e+00</td>\n",
       "      <td>2.05e+01</td>\n",
       "    </tr>\n",
       "  </tbody>\n",
       "</table>\n",
       "</div>"
      ],
      "text/plain": [
       "             count      mean       std        min       25%       50%  \\\n",
       "Open        1692.0  1.32e+02  9.43e+01      16.14  3.00e+01  1.56e+02   \n",
       "Close       1692.0  1.32e+02  9.43e+01      15.80  2.99e+01  1.58e+02   \n",
       "Volume      1692.0  4.27e+06  4.30e+06  118500.00  1.19e+06  3.18e+06   \n",
       "Difference  1692.0  1.29e-02  3.69e+00     -20.77 -1.07e+00  5.00e-02   \n",
       "\n",
       "                 75%       max  \n",
       "Open        2.21e+02  2.88e+02  \n",
       "Close       2.20e+02  2.86e+02  \n",
       "Volume      5.66e+06  3.72e+07  \n",
       "Difference  1.25e+00  2.05e+01  "
      ]
     },
     "execution_count": 88,
     "metadata": {},
     "output_type": "execute_result"
    }
   ],
   "source": [
    "tesla.describe().T"
   ]
  },
  {
   "cell_type": "markdown",
   "metadata": {},
   "source": [
    "### Visualizing your Pandas DataFrame"
   ]
  },
  {
   "cell_type": "code",
   "execution_count": 91,
   "metadata": {},
   "outputs": [
    {
     "name": "stdout",
     "output_type": "stream",
     "text": [
      "pip 21.2.4 from C:\\Users\\yevaw\\AppData\\Local\\Programs\\Python\\Python310\\lib\\site-packages\\pip (python 3.10)\n",
      "Note: you may need to restart the kernel to use updated packages.\n",
      "\n"
     ]
    }
   ],
   "source": [
    "pip -V"
   ]
  },
  {
   "cell_type": "code",
   "execution_count": 92,
   "metadata": {},
   "outputs": [
    {
     "name": "stdout",
     "output_type": "stream",
     "text": [
      "Collecting matplotlibNote: you may need to restart the kernel to use updated packages.\n"
     ]
    },
    {
     "name": "stderr",
     "output_type": "stream",
     "text": [
      "WARNING: You are using pip version 21.2.4; however, version 21.3.1 is available.\n",
      "You should consider upgrading via the 'C:\\Users\\yevaw\\AppData\\Local\\Programs\\Python\\Python310\\python.exe -m pip install --upgrade pip' command.\n"
     ]
    },
    {
     "name": "stdout",
     "output_type": "stream",
     "text": [
      "\n",
      "  Downloading matplotlib-3.5.1-cp310-cp310-win_amd64.whl (7.2 MB)\n",
      "Collecting packaging>=20.0\n",
      "  Downloading packaging-21.3-py3-none-any.whl (40 kB)\n",
      "Collecting pyparsing>=2.2.1\n",
      "  Downloading pyparsing-3.0.7-py3-none-any.whl (98 kB)\n",
      "Collecting pillow>=6.2.0\n",
      "  Downloading Pillow-9.0.0-cp310-cp310-win_amd64.whl (3.2 MB)\n",
      "Collecting kiwisolver>=1.0.1\n",
      "  Downloading kiwisolver-1.3.2-cp310-cp310-win_amd64.whl (52 kB)\n",
      "Requirement already satisfied: python-dateutil>=2.7 in c:\\users\\yevaw\\appdata\\local\\programs\\python\\python310\\lib\\site-packages (from matplotlib) (2.8.2)\n",
      "Collecting cycler>=0.10\n",
      "  Downloading cycler-0.11.0-py3-none-any.whl (6.4 kB)\n",
      "Requirement already satisfied: numpy>=1.17 in c:\\users\\yevaw\\appdata\\local\\programs\\python\\python310\\lib\\site-packages (from matplotlib) (1.22.1)\n",
      "Collecting fonttools>=4.22.0\n",
      "  Downloading fonttools-4.28.5-py3-none-any.whl (890 kB)\n",
      "Requirement already satisfied: six>=1.5 in c:\\users\\yevaw\\appdata\\local\\programs\\python\\python310\\lib\\site-packages (from python-dateutil>=2.7->matplotlib) (1.16.0)\n",
      "Installing collected packages: pyparsing, pillow, packaging, kiwisolver, fonttools, cycler, matplotlib\n",
      "Successfully installed cycler-0.11.0 fonttools-4.28.5 kiwisolver-1.3.2 matplotlib-3.5.1 packaging-21.3 pillow-9.0.0 pyparsing-3.0.7\n"
     ]
    }
   ],
   "source": [
    "pip install matplotlib"
   ]
  },
  {
   "cell_type": "code",
   "execution_count": 93,
   "metadata": {},
   "outputs": [
    {
     "data": {
      "text/plain": [
       "'3.5.1'"
      ]
     },
     "execution_count": 93,
     "metadata": {},
     "output_type": "execute_result"
    }
   ],
   "source": [
    "import matplotlib\n",
    "matplotlib.__version__"
   ]
  },
  {
   "cell_type": "code",
   "execution_count": 94,
   "metadata": {},
   "outputs": [
    {
     "name": "stderr",
     "output_type": "stream",
     "text": [
      "Matplotlib is building the font cache; this may take a moment.\n"
     ]
    }
   ],
   "source": [
    "%matplotlib inline"
   ]
  },
  {
   "cell_type": "code",
   "execution_count": 95,
   "metadata": {},
   "outputs": [
    {
     "data": {
      "text/html": [
       "<div>\n",
       "<style scoped>\n",
       "    .dataframe tbody tr th:only-of-type {\n",
       "        vertical-align: middle;\n",
       "    }\n",
       "\n",
       "    .dataframe tbody tr th {\n",
       "        vertical-align: top;\n",
       "    }\n",
       "\n",
       "    .dataframe thead th {\n",
       "        text-align: right;\n",
       "    }\n",
       "</style>\n",
       "<table border=\"1\" class=\"dataframe\">\n",
       "  <thead>\n",
       "    <tr style=\"text-align: right;\">\n",
       "      <th></th>\n",
       "      <th>Date</th>\n",
       "      <th>Open</th>\n",
       "      <th>Close</th>\n",
       "      <th>Volume</th>\n",
       "      <th>Difference</th>\n",
       "    </tr>\n",
       "  </thead>\n",
       "  <tbody>\n",
       "    <tr>\n",
       "      <th>0</th>\n",
       "      <td>2010-06-29</td>\n",
       "      <td>19.00</td>\n",
       "      <td>23.89</td>\n",
       "      <td>18766300</td>\n",
       "      <td>-4.89</td>\n",
       "    </tr>\n",
       "    <tr>\n",
       "      <th>1</th>\n",
       "      <td>2010-06-30</td>\n",
       "      <td>25.79</td>\n",
       "      <td>23.83</td>\n",
       "      <td>17187100</td>\n",
       "      <td>1.96</td>\n",
       "    </tr>\n",
       "    <tr>\n",
       "      <th>2</th>\n",
       "      <td>2010-07-01</td>\n",
       "      <td>25.00</td>\n",
       "      <td>21.96</td>\n",
       "      <td>8218800</td>\n",
       "      <td>3.04</td>\n",
       "    </tr>\n",
       "    <tr>\n",
       "      <th>3</th>\n",
       "      <td>2010-07-02</td>\n",
       "      <td>23.00</td>\n",
       "      <td>19.20</td>\n",
       "      <td>5139800</td>\n",
       "      <td>3.80</td>\n",
       "    </tr>\n",
       "    <tr>\n",
       "      <th>4</th>\n",
       "      <td>2010-07-06</td>\n",
       "      <td>20.00</td>\n",
       "      <td>16.11</td>\n",
       "      <td>6866900</td>\n",
       "      <td>3.89</td>\n",
       "    </tr>\n",
       "    <tr>\n",
       "      <th>...</th>\n",
       "      <td>...</td>\n",
       "      <td>...</td>\n",
       "      <td>...</td>\n",
       "      <td>...</td>\n",
       "      <td>...</td>\n",
       "    </tr>\n",
       "    <tr>\n",
       "      <th>1687</th>\n",
       "      <td>2017-03-13</td>\n",
       "      <td>244.82</td>\n",
       "      <td>246.17</td>\n",
       "      <td>3010700</td>\n",
       "      <td>-1.35</td>\n",
       "    </tr>\n",
       "    <tr>\n",
       "      <th>1688</th>\n",
       "      <td>2017-03-14</td>\n",
       "      <td>246.11</td>\n",
       "      <td>258.00</td>\n",
       "      <td>7575500</td>\n",
       "      <td>-11.89</td>\n",
       "    </tr>\n",
       "    <tr>\n",
       "      <th>1689</th>\n",
       "      <td>2017-03-15</td>\n",
       "      <td>257.00</td>\n",
       "      <td>255.73</td>\n",
       "      <td>4816600</td>\n",
       "      <td>1.27</td>\n",
       "    </tr>\n",
       "    <tr>\n",
       "      <th>1690</th>\n",
       "      <td>2017-03-16</td>\n",
       "      <td>262.40</td>\n",
       "      <td>262.05</td>\n",
       "      <td>7100400</td>\n",
       "      <td>0.35</td>\n",
       "    </tr>\n",
       "    <tr>\n",
       "      <th>1691</th>\n",
       "      <td>2017-03-17</td>\n",
       "      <td>264.00</td>\n",
       "      <td>261.50</td>\n",
       "      <td>6475900</td>\n",
       "      <td>2.50</td>\n",
       "    </tr>\n",
       "  </tbody>\n",
       "</table>\n",
       "<p>1692 rows × 5 columns</p>\n",
       "</div>"
      ],
      "text/plain": [
       "           Date    Open   Close    Volume  Difference\n",
       "0    2010-06-29   19.00   23.89  18766300       -4.89\n",
       "1    2010-06-30   25.79   23.83  17187100        1.96\n",
       "2    2010-07-01   25.00   21.96   8218800        3.04\n",
       "3    2010-07-02   23.00   19.20   5139800        3.80\n",
       "4    2010-07-06   20.00   16.11   6866900        3.89\n",
       "...         ...     ...     ...       ...         ...\n",
       "1687 2017-03-13  244.82  246.17   3010700       -1.35\n",
       "1688 2017-03-14  246.11  258.00   7575500      -11.89\n",
       "1689 2017-03-15  257.00  255.73   4816600        1.27\n",
       "1690 2017-03-16  262.40  262.05   7100400        0.35\n",
       "1691 2017-03-17  264.00  261.50   6475900        2.50\n",
       "\n",
       "[1692 rows x 5 columns]"
      ]
     },
     "execution_count": 95,
     "metadata": {},
     "output_type": "execute_result"
    }
   ],
   "source": [
    "tesla"
   ]
  },
  {
   "cell_type": "code",
   "execution_count": 97,
   "metadata": {},
   "outputs": [
    {
     "data": {
      "text/html": [
       "<div>\n",
       "<style scoped>\n",
       "    .dataframe tbody tr th:only-of-type {\n",
       "        vertical-align: middle;\n",
       "    }\n",
       "\n",
       "    .dataframe tbody tr th {\n",
       "        vertical-align: top;\n",
       "    }\n",
       "\n",
       "    .dataframe thead th {\n",
       "        text-align: right;\n",
       "    }\n",
       "</style>\n",
       "<table border=\"1\" class=\"dataframe\">\n",
       "  <thead>\n",
       "    <tr style=\"text-align: right;\">\n",
       "      <th></th>\n",
       "      <th>Open</th>\n",
       "      <th>Close</th>\n",
       "      <th>Volume</th>\n",
       "      <th>Difference</th>\n",
       "    </tr>\n",
       "  </thead>\n",
       "  <tbody>\n",
       "    <tr>\n",
       "      <th>count</th>\n",
       "      <td>1692.00</td>\n",
       "      <td>1692.00</td>\n",
       "      <td>1.69e+03</td>\n",
       "      <td>1692.00</td>\n",
       "    </tr>\n",
       "    <tr>\n",
       "      <th>mean</th>\n",
       "      <td>132.44</td>\n",
       "      <td>132.43</td>\n",
       "      <td>4.27e+06</td>\n",
       "      <td>0.01</td>\n",
       "    </tr>\n",
       "    <tr>\n",
       "      <th>std</th>\n",
       "      <td>94.31</td>\n",
       "      <td>94.31</td>\n",
       "      <td>4.30e+06</td>\n",
       "      <td>3.69</td>\n",
       "    </tr>\n",
       "    <tr>\n",
       "      <th>min</th>\n",
       "      <td>16.14</td>\n",
       "      <td>15.80</td>\n",
       "      <td>1.18e+05</td>\n",
       "      <td>-20.77</td>\n",
       "    </tr>\n",
       "    <tr>\n",
       "      <th>25%</th>\n",
       "      <td>30.00</td>\n",
       "      <td>29.88</td>\n",
       "      <td>1.19e+06</td>\n",
       "      <td>-1.07</td>\n",
       "    </tr>\n",
       "    <tr>\n",
       "      <th>50%</th>\n",
       "      <td>156.33</td>\n",
       "      <td>158.16</td>\n",
       "      <td>3.18e+06</td>\n",
       "      <td>0.05</td>\n",
       "    </tr>\n",
       "    <tr>\n",
       "      <th>75%</th>\n",
       "      <td>220.56</td>\n",
       "      <td>220.02</td>\n",
       "      <td>5.66e+06</td>\n",
       "      <td>1.25</td>\n",
       "    </tr>\n",
       "    <tr>\n",
       "      <th>max</th>\n",
       "      <td>287.67</td>\n",
       "      <td>286.04</td>\n",
       "      <td>3.72e+07</td>\n",
       "      <td>20.51</td>\n",
       "    </tr>\n",
       "  </tbody>\n",
       "</table>\n",
       "</div>"
      ],
      "text/plain": [
       "          Open    Close    Volume  Difference\n",
       "count  1692.00  1692.00  1.69e+03     1692.00\n",
       "mean    132.44   132.43  4.27e+06        0.01\n",
       "std      94.31    94.31  4.30e+06        3.69\n",
       "min      16.14    15.80  1.18e+05      -20.77\n",
       "25%      30.00    29.88  1.19e+06       -1.07\n",
       "50%     156.33   158.16  3.18e+06        0.05\n",
       "75%     220.56   220.02  5.66e+06        1.25\n",
       "max     287.67   286.04  3.72e+07       20.51"
      ]
     },
     "execution_count": 97,
     "metadata": {},
     "output_type": "execute_result"
    }
   ],
   "source": [
    "tesla.describe()"
   ]
  },
  {
   "cell_type": "code",
   "execution_count": 98,
   "metadata": {},
   "outputs": [
    {
     "data": {
      "text/plain": [
       "<AxesSubplot:xlabel='Date'>"
      ]
     },
     "execution_count": 98,
     "metadata": {},
     "output_type": "execute_result"
    },
    {
     "data": {
      "image/png": "[encoded data removed]",
      "text/plain": [
       "<Figure size 432x288 with 1 Axes>"
      ]
     },
     "metadata": {
      "needs_background": "light"
     },
     "output_type": "display_data"
    }
   ],
   "source": [
    "tesla[tesla[\"Open\"] > 132.44].groupby(\"Date\")[\"Volume\"].sum().plot()"
   ]
  },
  {
   "cell_type": "code",
   "execution_count": 99,
   "metadata": {},
   "outputs": [
    {
     "data": {
      "text/plain": [
       "Date\n",
       "2013-07-15     9922400\n",
       "2013-07-30    13127000\n",
       "2013-07-31     6351700\n",
       "2013-08-01     5323600\n",
       "2013-08-02     6269900\n",
       "                ...   \n",
       "2017-03-13     3010700\n",
       "2017-03-14     7575500\n",
       "2017-03-15     4816600\n",
       "2017-03-16     7100400\n",
       "2017-03-17     6475900\n",
       "Name: Volume, Length: 908, dtype: int64"
      ]
     },
     "execution_count": 99,
     "metadata": {},
     "output_type": "execute_result"
    }
   ],
   "source": [
    "tesla[tesla[\"Open\"] > 132.44].groupby(\"Date\")[\"Volume\"].sum()"
   ]
  },
  {
   "cell_type": "code",
   "execution_count": 100,
   "metadata": {},
   "outputs": [
    {
     "data": {
      "text/plain": [
       "<AxesSubplot:>"
      ]
     },
     "execution_count": 100,
     "metadata": {},
     "output_type": "execute_result"
    },
    {
     "data": {
      "image/png": "[encoded data removed]",
      "text/plain": [
       "<Figure size 432x288 with 1 Axes>"
      ]
     },
     "metadata": {
      "needs_background": "light"
     },
     "output_type": "display_data"
    }
   ],
   "source": [
    "tesla[\"Open\"].value_counts().head(10).plot(kind=\"bar\")"
   ]
  }
 ],
 "metadata": {
  "interpreter": {
   "hash": "c006ddb37c72d24e765aeadff54ccdb75f2ebe60215cac25e77ee5cc20223870"
  },
  "kernelspec": {
   "display_name": "Python 3.10.1 64-bit",
   "language": "python",
   "name": "python3"
  },
  "language_info": {
   "codemirror_mode": {
    "name": "ipython",
    "version": 3
   },
   "file_extension": ".py",
   "mimetype": "text/x-python",
   "name": "python",
   "nbconvert_exporter": "python",
   "pygments_lexer": "ipython3",
   "version": "3.10.1"
  },
  "orig_nbformat": 4
 },
 "nbformat": 4,
 "nbformat_minor": 2
}
